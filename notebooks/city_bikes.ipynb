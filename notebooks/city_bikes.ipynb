{
 "cells": [
  {
   "cell_type": "markdown",
   "metadata": {},
   "source": [
    "# CityBikes"
   ]
  },
  {
   "cell_type": "code",
   "execution_count": 9,
   "metadata": {},
   "outputs": [],
   "source": [
    "import pandas as pd\n",
    "import requests\n",
    "\n",
    "# Base endpoint = http://api.citybik.es/v2/networks\n",
    "\n",
    "url = 'http://api.citybik.es/v2/networks'"
   ]
  },
  {
   "cell_type": "markdown",
   "metadata": {},
   "source": [
    "Send a request to CityBikes for the city of your choice. "
   ]
  },
  {
   "cell_type": "code",
   "execution_count": 13,
   "metadata": {},
   "outputs": [],
   "source": [
    "# An example url is given - http://api.citybik.es/v2/networks?fields=id,name,href\n",
    "# We can get an idea of how the parameters are structured.\n",
    "\n",
    "params = {\n",
    "    'fields':'id,name,href'\n",
    "}\n",
    "\n",
    "response = requests.get(url= url, params=params)\n",
    "\n",
    "# response.json() (Commented out to not clutter github preview)\n",
    "\n",
    "\n",
    "# This output tells us each city/point has its own network(s) identified by <bike sharing company>-<city name>\n",
    "# The href is the base endpoint + the id. I want to use Berlin and the map in the API documentation has 'Nextbike' associated with Berlin.\n",
    "# The network for Berlin should then be '.../v2/networks/nextbike-berlin'\n",
    "# CTRL+F in the output confirms this."
   ]
  },
  {
   "cell_type": "code",
   "execution_count": 3,
   "metadata": {},
   "outputs": [],
   "source": [
    "berlin = '/nextbike-berlin'\n",
    "# Test a response to Berlin's network\n",
    "response = requests.get(url= url + berlin)\n",
    "# response.json()  (Commented out to not clutter github preview)\n",
    "# It works and has spit out all the relevant stations."
   ]
  },
  {
   "cell_type": "markdown",
   "metadata": {},
   "source": [
    "Parse through the response to get the details you want for the bike stations in that city (latitude, longitude, number of bikes). "
   ]
  },
  {
   "cell_type": "code",
   "execution_count": 4,
   "metadata": {},
   "outputs": [],
   "source": [
    "# return lat, long, slots, and I'm going to grab free_bikes and empty_slots as well as that seems important.\n",
    "url = 'http://api.citybik.es/v2/networks'\n",
    "berlin = '/nextbike-berlin'\n",
    "\n",
    "response = requests.get(url= (url + berlin))\n",
    "\n",
    "bike_json = response.json() # Cache our response so we can play around with it and get an understanding of how the Json is laid out.\n"
   ]
  },
  {
   "cell_type": "code",
   "execution_count": 5,
   "metadata": {},
   "outputs": [
    {
     "name": "stdout",
     "output_type": "stream",
     "text": [
      "Lat - 52.504157\n",
      "Long - 13.335328\n",
      "Slots - 4\n",
      "Bikes available - 4\n",
      "Bikes in use - 0\n"
     ]
    }
   ],
   "source": [
    "print('Lat -',bike_json['network']['stations'][0]['latitude'])\n",
    "print('Long -',bike_json['network']['stations'][0]['longitude'])\n",
    "print('Slots -',bike_json['network']['stations'][0]['extra']['slots'])\n",
    "print('Bikes available -',bike_json['network']['stations'][0]['free_bikes'])\n",
    "print('Bikes in use -',bike_json['network']['stations'][0]['empty_slots'])\n",
    "\n",
    "# Create for loop to iterate over station list in bike_json (where the [0] is in the above indexing)\n",
    "# This will grab this info for all stations in Berlin."
   ]
  },
  {
   "cell_type": "markdown",
   "metadata": {},
   "source": [
    "Put your parsed results into a DataFrame."
   ]
  },
  {
   "cell_type": "code",
   "execution_count": 6,
   "metadata": {},
   "outputs": [],
   "source": [
    "# relevant info from each station will be concatenated into 'berlin_compiled' before it is furthered processed.\n",
    "berlin_compiled= pd.DataFrame()\n",
    "\n",
    "for station in bike_json['network']['stations']:\n",
    "    tmp_df = pd.DataFrame()\n",
    "    # This df will be constructed into the df that will be stacked onto 'berlin_compiled'\n",
    "    tmp_df = pd.concat([\n",
    "        tmp_df,\n",
    "        pd.Series(station['latitude'],name='lat'),\n",
    "        pd.Series(station['longitude'],name='long'),\n",
    "        pd.Series(station['free_bikes'],name='bikes_available'),\n",
    "        pd.Series(station['empty_slots'],name='bikes_in_use'),\n",
    "        pd.Series(station['extra']['slots'],name='total_bikes')\n",
    "    ],\n",
    "    axis=1 # horizontal concat\n",
    "    )\n",
    "    berlin_compiled = pd.concat([berlin_compiled,tmp_df]) # vertical concat\n",
    "    \n",
    "    # essentially we're creating 'berlin_compiled' one row at a time.\n",
    "\n",
    "# Without using a custom class this is all quite ugly.\n",
    "\n"
   ]
  },
  {
   "cell_type": "code",
   "execution_count": 7,
   "metadata": {},
   "outputs": [
    {
     "data": {
      "text/html": [
       "<div>\n",
       "<style scoped>\n",
       "    .dataframe tbody tr th:only-of-type {\n",
       "        vertical-align: middle;\n",
       "    }\n",
       "\n",
       "    .dataframe tbody tr th {\n",
       "        vertical-align: top;\n",
       "    }\n",
       "\n",
       "    .dataframe thead th {\n",
       "        text-align: right;\n",
       "    }\n",
       "</style>\n",
       "<table border=\"1\" class=\"dataframe\">\n",
       "  <thead>\n",
       "    <tr style=\"text-align: right;\">\n",
       "      <th></th>\n",
       "      <th>lat</th>\n",
       "      <th>long</th>\n",
       "      <th>bikes_available</th>\n",
       "      <th>bikes_in_use</th>\n",
       "      <th>total_bikes</th>\n",
       "    </tr>\n",
       "  </thead>\n",
       "  <tbody>\n",
       "    <tr>\n",
       "      <th>0</th>\n",
       "      <td>52.504157</td>\n",
       "      <td>13.335328</td>\n",
       "      <td>4</td>\n",
       "      <td>0</td>\n",
       "      <td>4</td>\n",
       "    </tr>\n",
       "    <tr>\n",
       "      <th>1</th>\n",
       "      <td>52.496986</td>\n",
       "      <td>13.291210</td>\n",
       "      <td>0</td>\n",
       "      <td>4</td>\n",
       "      <td>4</td>\n",
       "    </tr>\n",
       "    <tr>\n",
       "      <th>2</th>\n",
       "      <td>52.498323</td>\n",
       "      <td>13.296157</td>\n",
       "      <td>4</td>\n",
       "      <td>1</td>\n",
       "      <td>5</td>\n",
       "    </tr>\n",
       "    <tr>\n",
       "      <th>3</th>\n",
       "      <td>52.499137</td>\n",
       "      <td>13.303743</td>\n",
       "      <td>4</td>\n",
       "      <td>1</td>\n",
       "      <td>5</td>\n",
       "    </tr>\n",
       "    <tr>\n",
       "      <th>4</th>\n",
       "      <td>52.500614</td>\n",
       "      <td>13.294401</td>\n",
       "      <td>6</td>\n",
       "      <td>2</td>\n",
       "      <td>8</td>\n",
       "    </tr>\n",
       "  </tbody>\n",
       "</table>\n",
       "</div>"
      ],
      "text/plain": [
       "         lat       long  bikes_available  bikes_in_use  total_bikes\n",
       "0  52.504157  13.335328                4             0            4\n",
       "1  52.496986  13.291210                0             4            4\n",
       "2  52.498323  13.296157                4             1            5\n",
       "3  52.499137  13.303743                4             1            5\n",
       "4  52.500614  13.294401                6             2            8"
      ]
     },
     "execution_count": 7,
     "metadata": {},
     "output_type": "execute_result"
    }
   ],
   "source": [
    "berlin_bikes = berlin_compiled.reset_index(drop=True) # set a proper incrementing index instead of all 0s\n",
    "berlin_bikes.head()\n",
    "# Now we have a df of relevant information for all the stations in Berlin."
   ]
  },
  {
   "cell_type": "code",
   "execution_count": 9,
   "metadata": {},
   "outputs": [],
   "source": [
    "berlin_bikes.to_csv('../data/berlin_bikes.csv')\n",
    "# Export table for Part 2 of this project."
   ]
  }
 ],
 "metadata": {
  "kernelspec": {
   "display_name": "base",
   "language": "python",
   "name": "python3"
  },
  "language_info": {
   "codemirror_mode": {
    "name": "ipython",
    "version": 3
   },
   "file_extension": ".py",
   "mimetype": "text/x-python",
   "name": "python",
   "nbconvert_exporter": "python",
   "pygments_lexer": "ipython3",
   "version": "3.9.13 (main, Aug 25 2022, 23:51:50) [MSC v.1916 64 bit (AMD64)]"
  },
  "vscode": {
   "interpreter": {
    "hash": "8a34b3273de5bc47428473d2a098b2b644951547a78dfc045c680f0cd3ff6f5f"
   }
  }
 },
 "nbformat": 4,
 "nbformat_minor": 4
}
