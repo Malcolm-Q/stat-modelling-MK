{
 "cells": [
  {
   "cell_type": "code",
   "execution_count": 49,
   "metadata": {},
   "outputs": [],
   "source": [
    "import pandas as pd\n",
    "import sqlite3 as sql\n",
    "import numpy as np"
   ]
  },
  {
   "cell_type": "markdown",
   "metadata": {},
   "source": [
    "Join the data from Part 1 with the data from Part 2 to create a new dataframe."
   ]
  },
  {
   "cell_type": "code",
   "execution_count": 3,
   "metadata": {},
   "outputs": [
    {
     "name": "stdout",
     "output_type": "stream",
     "text": [
      "Index(['Unnamed: 0', 'name', 'distance_meters', 'category', 'popularity',\n",
      "       'rating', 'lat', 'long', 'origin'],\n",
      "      dtype='object')\n",
      "Index(['Unnamed: 0', 'lat', 'long', 'bikes_available', 'bikes_in_use',\n",
      "       'total_bikes'],\n",
      "      dtype='object')\n"
     ]
    }
   ],
   "source": [
    "places_df = pd.read_csv('../data/foursquare_bikes.csv')\n",
    "stations_df = pd.read_csv('../data/berlin_bikes.csv')\n",
    "\n",
    "print(places_df.columns)\n",
    "print(stations_df.columns)\n",
    "# We will have to join on places_df.origin and a new column in stations_df of lat+','+long\n",
    "stations_df['origin'] = stations_df['lat'].astype(str) + ',' + stations_df['long'].astype(str)\n",
    "stations_df = stations_df.drop(['lat','long','Unnamed: 0'], axis=1)\n",
    "\n",
    "places_df = places_df.drop('Unnamed: 0',axis=1)\n",
    "places_df['origin'] = places_df['origin'].astype(str)\n",
    "stations_df['origin'] = stations_df['origin'].astype(str)"
   ]
  },
  {
   "cell_type": "code",
   "execution_count": 4,
   "metadata": {},
   "outputs": [
    {
     "data": {
      "text/html": [
       "<div>\n",
       "<style scoped>\n",
       "    .dataframe tbody tr th:only-of-type {\n",
       "        vertical-align: middle;\n",
       "    }\n",
       "\n",
       "    .dataframe tbody tr th {\n",
       "        vertical-align: top;\n",
       "    }\n",
       "\n",
       "    .dataframe thead th {\n",
       "        text-align: right;\n",
       "    }\n",
       "</style>\n",
       "<table border=\"1\" class=\"dataframe\">\n",
       "  <thead>\n",
       "    <tr style=\"text-align: right;\">\n",
       "      <th></th>\n",
       "      <th>name</th>\n",
       "      <th>distance_meters</th>\n",
       "      <th>category</th>\n",
       "      <th>popularity</th>\n",
       "      <th>rating</th>\n",
       "      <th>lat</th>\n",
       "      <th>long</th>\n",
       "      <th>origin</th>\n",
       "    </tr>\n",
       "  </thead>\n",
       "  <tbody>\n",
       "    <tr>\n",
       "      <th>0</th>\n",
       "      <td>Curry Wolf</td>\n",
       "      <td>29.0</td>\n",
       "      <td>Fast Food Restaurant</td>\n",
       "      <td>0.903641</td>\n",
       "      <td>7.8</td>\n",
       "      <td>52.503902</td>\n",
       "      <td>13.335662</td>\n",
       "      <td>52.504157,13.335328</td>\n",
       "    </tr>\n",
       "  </tbody>\n",
       "</table>\n",
       "</div>"
      ],
      "text/plain": [
       "         name  distance_meters              category  popularity  rating  \\\n",
       "0  Curry Wolf             29.0  Fast Food Restaurant    0.903641     7.8   \n",
       "\n",
       "         lat       long               origin  \n",
       "0  52.503902  13.335662  52.504157,13.335328  "
      ]
     },
     "execution_count": 4,
     "metadata": {},
     "output_type": "execute_result"
    }
   ],
   "source": [
    "places_df.head(1)"
   ]
  },
  {
   "cell_type": "code",
   "execution_count": 5,
   "metadata": {},
   "outputs": [
    {
     "data": {
      "text/html": [
       "<div>\n",
       "<style scoped>\n",
       "    .dataframe tbody tr th:only-of-type {\n",
       "        vertical-align: middle;\n",
       "    }\n",
       "\n",
       "    .dataframe tbody tr th {\n",
       "        vertical-align: top;\n",
       "    }\n",
       "\n",
       "    .dataframe thead th {\n",
       "        text-align: right;\n",
       "    }\n",
       "</style>\n",
       "<table border=\"1\" class=\"dataframe\">\n",
       "  <thead>\n",
       "    <tr style=\"text-align: right;\">\n",
       "      <th></th>\n",
       "      <th>bikes_available</th>\n",
       "      <th>bikes_in_use</th>\n",
       "      <th>total_bikes</th>\n",
       "      <th>origin</th>\n",
       "    </tr>\n",
       "  </thead>\n",
       "  <tbody>\n",
       "    <tr>\n",
       "      <th>0</th>\n",
       "      <td>4</td>\n",
       "      <td>0</td>\n",
       "      <td>4</td>\n",
       "      <td>52.504157,13.335328</td>\n",
       "    </tr>\n",
       "  </tbody>\n",
       "</table>\n",
       "</div>"
      ],
      "text/plain": [
       "   bikes_available  bikes_in_use  total_bikes               origin\n",
       "0                4             0            4  52.504157,13.335328"
      ]
     },
     "execution_count": 5,
     "metadata": {},
     "output_type": "execute_result"
    }
   ],
   "source": [
    "stations_df.head(1)"
   ]
  },
  {
   "cell_type": "code",
   "execution_count": 6,
   "metadata": {},
   "outputs": [],
   "source": [
    "bike_poi_df = pd.merge(places_df,stations_df,on='origin')"
   ]
  },
  {
   "cell_type": "code",
   "execution_count": 7,
   "metadata": {},
   "outputs": [
    {
     "data": {
      "text/html": [
       "<div>\n",
       "<style scoped>\n",
       "    .dataframe tbody tr th:only-of-type {\n",
       "        vertical-align: middle;\n",
       "    }\n",
       "\n",
       "    .dataframe tbody tr th {\n",
       "        vertical-align: top;\n",
       "    }\n",
       "\n",
       "    .dataframe thead th {\n",
       "        text-align: right;\n",
       "    }\n",
       "</style>\n",
       "<table border=\"1\" class=\"dataframe\">\n",
       "  <thead>\n",
       "    <tr style=\"text-align: right;\">\n",
       "      <th></th>\n",
       "      <th>name</th>\n",
       "      <th>distance_meters</th>\n",
       "      <th>category</th>\n",
       "      <th>popularity</th>\n",
       "      <th>rating</th>\n",
       "      <th>lat</th>\n",
       "      <th>long</th>\n",
       "      <th>origin</th>\n",
       "      <th>bikes_available</th>\n",
       "      <th>bikes_in_use</th>\n",
       "      <th>total_bikes</th>\n",
       "    </tr>\n",
       "  </thead>\n",
       "  <tbody>\n",
       "    <tr>\n",
       "      <th>0</th>\n",
       "      <td>Curry Wolf</td>\n",
       "      <td>29.0</td>\n",
       "      <td>Fast Food Restaurant</td>\n",
       "      <td>0.903641</td>\n",
       "      <td>7.8</td>\n",
       "      <td>52.503902</td>\n",
       "      <td>13.335662</td>\n",
       "      <td>52.504157,13.335328</td>\n",
       "      <td>4</td>\n",
       "      <td>0</td>\n",
       "      <td>4</td>\n",
       "    </tr>\n",
       "    <tr>\n",
       "      <th>1</th>\n",
       "      <td>Pull&amp;Bear Ber-Tauentzienstrasse</td>\n",
       "      <td>29.0</td>\n",
       "      <td>Clothing Store</td>\n",
       "      <td>0.988963</td>\n",
       "      <td>7.8</td>\n",
       "      <td>52.504021</td>\n",
       "      <td>13.335963</td>\n",
       "      <td>52.504157,13.335328</td>\n",
       "      <td>4</td>\n",
       "      <td>0</td>\n",
       "      <td>4</td>\n",
       "    </tr>\n",
       "    <tr>\n",
       "      <th>2</th>\n",
       "      <td>Levi Strauss Germany GmbH</td>\n",
       "      <td>19.0</td>\n",
       "      <td>Clothing Store</td>\n",
       "      <td>0.936147</td>\n",
       "      <td>6.7</td>\n",
       "      <td>52.504051</td>\n",
       "      <td>13.334821</td>\n",
       "      <td>52.504157,13.335328</td>\n",
       "      <td>4</td>\n",
       "      <td>0</td>\n",
       "      <td>4</td>\n",
       "    </tr>\n",
       "    <tr>\n",
       "      <th>3</th>\n",
       "      <td>Commerzbank</td>\n",
       "      <td>13.0</td>\n",
       "      <td>Bank</td>\n",
       "      <td>0.995382</td>\n",
       "      <td>6.0</td>\n",
       "      <td>52.504245</td>\n",
       "      <td>13.334703</td>\n",
       "      <td>52.504157,13.335328</td>\n",
       "      <td>4</td>\n",
       "      <td>0</td>\n",
       "      <td>4</td>\n",
       "    </tr>\n",
       "    <tr>\n",
       "      <th>4</th>\n",
       "      <td>Curry Am Ku'damm</td>\n",
       "      <td>10.0</td>\n",
       "      <td>Snack Place</td>\n",
       "      <td>0.781733</td>\n",
       "      <td>NaN</td>\n",
       "      <td>52.504211</td>\n",
       "      <td>13.334964</td>\n",
       "      <td>52.504157,13.335328</td>\n",
       "      <td>4</td>\n",
       "      <td>0</td>\n",
       "      <td>4</td>\n",
       "    </tr>\n",
       "    <tr>\n",
       "      <th>...</th>\n",
       "      <td>...</td>\n",
       "      <td>...</td>\n",
       "      <td>...</td>\n",
       "      <td>...</td>\n",
       "      <td>...</td>\n",
       "      <td>...</td>\n",
       "      <td>...</td>\n",
       "      <td>...</td>\n",
       "      <td>...</td>\n",
       "      <td>...</td>\n",
       "      <td>...</td>\n",
       "    </tr>\n",
       "    <tr>\n",
       "      <th>46163</th>\n",
       "      <td>Nice Ice</td>\n",
       "      <td>31.0</td>\n",
       "      <td>Ice Cream Parlor</td>\n",
       "      <td>0.382586</td>\n",
       "      <td>NaN</td>\n",
       "      <td>52.510668</td>\n",
       "      <td>13.381195</td>\n",
       "      <td>52.51104,13.38126</td>\n",
       "      <td>1</td>\n",
       "      <td>3</td>\n",
       "      <td>4</td>\n",
       "    </tr>\n",
       "    <tr>\n",
       "      <th>46164</th>\n",
       "      <td>zero Textilhandel</td>\n",
       "      <td>16.0</td>\n",
       "      <td>Fabric / Textiles Store</td>\n",
       "      <td>NaN</td>\n",
       "      <td>NaN</td>\n",
       "      <td>52.510934</td>\n",
       "      <td>13.381434</td>\n",
       "      <td>52.51104,13.38126</td>\n",
       "      <td>1</td>\n",
       "      <td>3</td>\n",
       "      <td>4</td>\n",
       "    </tr>\n",
       "    <tr>\n",
       "      <th>46165</th>\n",
       "      <td>Edeka</td>\n",
       "      <td>55.0</td>\n",
       "      <td>Grocery Store / Supermarket</td>\n",
       "      <td>0.954706</td>\n",
       "      <td>7.2</td>\n",
       "      <td>52.510483</td>\n",
       "      <td>13.380640</td>\n",
       "      <td>52.51104,13.38126</td>\n",
       "      <td>1</td>\n",
       "      <td>3</td>\n",
       "      <td>4</td>\n",
       "    </tr>\n",
       "    <tr>\n",
       "      <th>46166</th>\n",
       "      <td>Private Textiles G. M. B. H.</td>\n",
       "      <td>19.0</td>\n",
       "      <td>Clothing Store</td>\n",
       "      <td>NaN</td>\n",
       "      <td>NaN</td>\n",
       "      <td>52.510869</td>\n",
       "      <td>13.381180</td>\n",
       "      <td>52.51104,13.38126</td>\n",
       "      <td>1</td>\n",
       "      <td>3</td>\n",
       "      <td>4</td>\n",
       "    </tr>\n",
       "    <tr>\n",
       "      <th>46167</th>\n",
       "      <td>Royal Lounge LP12</td>\n",
       "      <td>35.0</td>\n",
       "      <td>Lounge</td>\n",
       "      <td>0.507580</td>\n",
       "      <td>NaN</td>\n",
       "      <td>52.510696</td>\n",
       "      <td>13.380831</td>\n",
       "      <td>52.51104,13.38126</td>\n",
       "      <td>1</td>\n",
       "      <td>3</td>\n",
       "      <td>4</td>\n",
       "    </tr>\n",
       "  </tbody>\n",
       "</table>\n",
       "<p>15750 rows × 11 columns</p>\n",
       "</div>"
      ],
      "text/plain": [
       "                                  name  distance_meters  \\\n",
       "0                           Curry Wolf             29.0   \n",
       "1      Pull&Bear Ber-Tauentzienstrasse             29.0   \n",
       "2            Levi Strauss Germany GmbH             19.0   \n",
       "3                          Commerzbank             13.0   \n",
       "4                     Curry Am Ku'damm             10.0   \n",
       "...                                ...              ...   \n",
       "46163                         Nice Ice             31.0   \n",
       "46164                zero Textilhandel             16.0   \n",
       "46165                            Edeka             55.0   \n",
       "46166     Private Textiles G. M. B. H.             19.0   \n",
       "46167                Royal Lounge LP12             35.0   \n",
       "\n",
       "                          category  popularity  rating        lat       long  \\\n",
       "0             Fast Food Restaurant    0.903641     7.8  52.503902  13.335662   \n",
       "1                   Clothing Store    0.988963     7.8  52.504021  13.335963   \n",
       "2                   Clothing Store    0.936147     6.7  52.504051  13.334821   \n",
       "3                             Bank    0.995382     6.0  52.504245  13.334703   \n",
       "4                      Snack Place    0.781733     NaN  52.504211  13.334964   \n",
       "...                            ...         ...     ...        ...        ...   \n",
       "46163             Ice Cream Parlor    0.382586     NaN  52.510668  13.381195   \n",
       "46164      Fabric / Textiles Store         NaN     NaN  52.510934  13.381434   \n",
       "46165  Grocery Store / Supermarket    0.954706     7.2  52.510483  13.380640   \n",
       "46166               Clothing Store         NaN     NaN  52.510869  13.381180   \n",
       "46167                       Lounge    0.507580     NaN  52.510696  13.380831   \n",
       "\n",
       "                    origin  bikes_available  bikes_in_use  total_bikes  \n",
       "0      52.504157,13.335328                4             0            4  \n",
       "1      52.504157,13.335328                4             0            4  \n",
       "2      52.504157,13.335328                4             0            4  \n",
       "3      52.504157,13.335328                4             0            4  \n",
       "4      52.504157,13.335328                4             0            4  \n",
       "...                    ...              ...           ...          ...  \n",
       "46163    52.51104,13.38126                1             3            4  \n",
       "46164    52.51104,13.38126                1             3            4  \n",
       "46165    52.51104,13.38126                1             3            4  \n",
       "46166    52.51104,13.38126                1             3            4  \n",
       "46167    52.51104,13.38126                1             3            4  \n",
       "\n",
       "[15750 rows x 11 columns]"
      ]
     },
     "execution_count": 7,
     "metadata": {},
     "output_type": "execute_result"
    }
   ],
   "source": [
    "bike_poi_df.groupby(by='origin').head(10)"
   ]
  },
  {
   "cell_type": "markdown",
   "metadata": {},
   "source": [
    "Provide a visualization that you used as part of your EDA process. Explain the initial pattern or relationship you discoved through this visualization. "
   ]
  },
  {
   "cell_type": "code",
   "execution_count": null,
   "metadata": {},
   "outputs": [],
   "source": [
    "# This is by far the one I had the most fun with and it provides excellent easily digestible context for the data.\n",
    "# plotly.express has a really cool feature where you can scatter plots onto a detailed interactive map.\n",
    "\n",
    "import plotly.express as px\n",
    "tmp_stations_df = pd.read_csv('../data/berlin_bikes.csv')\n",
    "# set x and y\n",
    "x = tmp_stations_df['lat']\n",
    "y = tmp_stations_df['long']\n",
    "\n",
    "fig = px.scatter_mapbox(tmp_stations_df,lat=x,lon=y,zoom=10,height=1000,width=1600,color='total_bikes',size='bikes_in_use', opacity=1)\n",
    "#                       df we're using, x,      y   ------self explanitory-------- set gradient and size for spectrum of values in set column.\n",
    "fig.update_layout(mapbox_style='open-street-map')\n",
    "fig.show()\n",
    "\n",
    "# This first plot is pretty basic. we're just plotting the location of every station, darker colored stations have fewer bikes and brighter stations have more bikes. Smaller stations have fewer bikes being used and larger have more."
   ]
  },
  {
   "attachments": {},
   "cell_type": "markdown",
   "metadata": {},
   "source": [
    "![alt text](https://media.discordapp.net/attachments/1063653051602321462/1069017577587757129/map_1.PNG?width=1153&height=661)"
   ]
  },
  {
   "attachments": {},
   "cell_type": "markdown",
   "metadata": {},
   "source": [
    "From this first plot there's quite a few patterns we can pick out.\n",
    "* In the city center there's low total bike stations distributed in a dense grid pattern. In a lot of the city there's one on every corner.\n",
    "* The biggest bike stations are most often by parks/nature or plazas/old city shopping centres. Parks and Nature paths aren't picked up in the foursquares search so there's some neglect of relevant information there.\n",
    "    * The north east station in the park by the campus is massive and very busy. The other bike stations, especially by the dorms are also busy.\n",
    "    * In the heart of Berlin (GeorgenStrase) There's a big, very busy, bike station that likely has a route along the river. This is probably a big tourist spot.\n",
    "    * However in the west, out of the city, there's a large park called Grunewald that isn't that popular for biking. I wonder why that is. Could this be used more by locals and not tourists?\n",
    "* While the outskirts of Berlin don't have a lot of stations there's some locality's that have quite a few. This presents a pattern in their growth out of mostly a residential community of Berlin into more of a little city of its own. (Tegel, Rummelburg and furthest away is Hellendorf)."
   ]
  },
  {
   "cell_type": "code",
   "execution_count": 160,
   "metadata": {},
   "outputs": [
    {
     "data": {
      "application/vnd.plotly.v1+json": {
       "config": {
        "plotlyServerURL": "https://plot.ly"
       },
       "data": [
        {
         "hovertemplate": "lat=%{lat}<br>lon=%{lon}<extra></extra>",
         "lat": [
          52.498994,
          52.625647,
          52.625857,
          52.528921,
          52.514071,
          52.517845,
          52.512978,
          52.503256,
          52.524341,
          52.556,
          52.533941,
          52.54404,
          52.499139,
          52.493556,
          52.447,
          52.54892,
          52.452583,
          52.459304,
          52.534778,
          52.523493,
          52.472433,
          52.634606,
          52.626349,
          52.624789,
          52.54092,
          52.54289,
          52.54131,
          52.519821,
          52.527938,
          52.50305,
          52.464923,
          52.458402,
          52.543611,
          52.498288,
          52.512989,
          52.468993,
          52.544273
         ],
         "legendgroup": "",
         "lon": [
          13.480353,
          13.501705,
          13.502682,
          13.438543,
          13.348872,
          13.371651,
          13.574224,
          13.553007,
          13.376855,
          13.335222,
          13.494787,
          13.59604,
          13.270056,
          13.499056,
          13.360806,
          13.58319,
          13.449556,
          13.355711,
          13.535306,
          13.433068,
          13.419843,
          13.492751,
          13.500336,
          13.499676,
          13.345,
          13.34361,
          13.34031,
          13.251802,
          13.460601,
          13.507992,
          13.347707,
          13.369779,
          13.339736,
          13.269833,
          13.239465,
          13.478447,
          13.354746
         ],
         "marker": {
          "color": "#636efa",
          "opacity": 1
         },
         "mode": "markers",
         "name": "",
         "showlegend": false,
         "subplot": "mapbox",
         "type": "scattermapbox"
        }
       ],
       "layout": {
        "height": 1000,
        "legend": {
         "tracegroupgap": 0
        },
        "mapbox": {
         "center": {
          "lat": 52.52622294594594,
          "lon": 13.422224972972975
         },
         "domain": {
          "x": [
           0,
           1
          ],
          "y": [
           0,
           1
          ]
         },
         "style": "open-street-map",
         "zoom": 10
        },
        "margin": {
         "t": 60
        },
        "template": {
         "data": {
          "bar": [
           {
            "error_x": {
             "color": "#2a3f5f"
            },
            "error_y": {
             "color": "#2a3f5f"
            },
            "marker": {
             "line": {
              "color": "#E5ECF6",
              "width": 0.5
             },
             "pattern": {
              "fillmode": "overlay",
              "size": 10,
              "solidity": 0.2
             }
            },
            "type": "bar"
           }
          ],
          "barpolar": [
           {
            "marker": {
             "line": {
              "color": "#E5ECF6",
              "width": 0.5
             },
             "pattern": {
              "fillmode": "overlay",
              "size": 10,
              "solidity": 0.2
             }
            },
            "type": "barpolar"
           }
          ],
          "carpet": [
           {
            "aaxis": {
             "endlinecolor": "#2a3f5f",
             "gridcolor": "white",
             "linecolor": "white",
             "minorgridcolor": "white",
             "startlinecolor": "#2a3f5f"
            },
            "baxis": {
             "endlinecolor": "#2a3f5f",
             "gridcolor": "white",
             "linecolor": "white",
             "minorgridcolor": "white",
             "startlinecolor": "#2a3f5f"
            },
            "type": "carpet"
           }
          ],
          "choropleth": [
           {
            "colorbar": {
             "outlinewidth": 0,
             "ticks": ""
            },
            "type": "choropleth"
           }
          ],
          "contour": [
           {
            "colorbar": {
             "outlinewidth": 0,
             "ticks": ""
            },
            "colorscale": [
             [
              0,
              "#0d0887"
             ],
             [
              0.1111111111111111,
              "#46039f"
             ],
             [
              0.2222222222222222,
              "#7201a8"
             ],
             [
              0.3333333333333333,
              "#9c179e"
             ],
             [
              0.4444444444444444,
              "#bd3786"
             ],
             [
              0.5555555555555556,
              "#d8576b"
             ],
             [
              0.6666666666666666,
              "#ed7953"
             ],
             [
              0.7777777777777778,
              "#fb9f3a"
             ],
             [
              0.8888888888888888,
              "#fdca26"
             ],
             [
              1,
              "#f0f921"
             ]
            ],
            "type": "contour"
           }
          ],
          "contourcarpet": [
           {
            "colorbar": {
             "outlinewidth": 0,
             "ticks": ""
            },
            "type": "contourcarpet"
           }
          ],
          "heatmap": [
           {
            "colorbar": {
             "outlinewidth": 0,
             "ticks": ""
            },
            "colorscale": [
             [
              0,
              "#0d0887"
             ],
             [
              0.1111111111111111,
              "#46039f"
             ],
             [
              0.2222222222222222,
              "#7201a8"
             ],
             [
              0.3333333333333333,
              "#9c179e"
             ],
             [
              0.4444444444444444,
              "#bd3786"
             ],
             [
              0.5555555555555556,
              "#d8576b"
             ],
             [
              0.6666666666666666,
              "#ed7953"
             ],
             [
              0.7777777777777778,
              "#fb9f3a"
             ],
             [
              0.8888888888888888,
              "#fdca26"
             ],
             [
              1,
              "#f0f921"
             ]
            ],
            "type": "heatmap"
           }
          ],
          "heatmapgl": [
           {
            "colorbar": {
             "outlinewidth": 0,
             "ticks": ""
            },
            "colorscale": [
             [
              0,
              "#0d0887"
             ],
             [
              0.1111111111111111,
              "#46039f"
             ],
             [
              0.2222222222222222,
              "#7201a8"
             ],
             [
              0.3333333333333333,
              "#9c179e"
             ],
             [
              0.4444444444444444,
              "#bd3786"
             ],
             [
              0.5555555555555556,
              "#d8576b"
             ],
             [
              0.6666666666666666,
              "#ed7953"
             ],
             [
              0.7777777777777778,
              "#fb9f3a"
             ],
             [
              0.8888888888888888,
              "#fdca26"
             ],
             [
              1,
              "#f0f921"
             ]
            ],
            "type": "heatmapgl"
           }
          ],
          "histogram": [
           {
            "marker": {
             "pattern": {
              "fillmode": "overlay",
              "size": 10,
              "solidity": 0.2
             }
            },
            "type": "histogram"
           }
          ],
          "histogram2d": [
           {
            "colorbar": {
             "outlinewidth": 0,
             "ticks": ""
            },
            "colorscale": [
             [
              0,
              "#0d0887"
             ],
             [
              0.1111111111111111,
              "#46039f"
             ],
             [
              0.2222222222222222,
              "#7201a8"
             ],
             [
              0.3333333333333333,
              "#9c179e"
             ],
             [
              0.4444444444444444,
              "#bd3786"
             ],
             [
              0.5555555555555556,
              "#d8576b"
             ],
             [
              0.6666666666666666,
              "#ed7953"
             ],
             [
              0.7777777777777778,
              "#fb9f3a"
             ],
             [
              0.8888888888888888,
              "#fdca26"
             ],
             [
              1,
              "#f0f921"
             ]
            ],
            "type": "histogram2d"
           }
          ],
          "histogram2dcontour": [
           {
            "colorbar": {
             "outlinewidth": 0,
             "ticks": ""
            },
            "colorscale": [
             [
              0,
              "#0d0887"
             ],
             [
              0.1111111111111111,
              "#46039f"
             ],
             [
              0.2222222222222222,
              "#7201a8"
             ],
             [
              0.3333333333333333,
              "#9c179e"
             ],
             [
              0.4444444444444444,
              "#bd3786"
             ],
             [
              0.5555555555555556,
              "#d8576b"
             ],
             [
              0.6666666666666666,
              "#ed7953"
             ],
             [
              0.7777777777777778,
              "#fb9f3a"
             ],
             [
              0.8888888888888888,
              "#fdca26"
             ],
             [
              1,
              "#f0f921"
             ]
            ],
            "type": "histogram2dcontour"
           }
          ],
          "mesh3d": [
           {
            "colorbar": {
             "outlinewidth": 0,
             "ticks": ""
            },
            "type": "mesh3d"
           }
          ],
          "parcoords": [
           {
            "line": {
             "colorbar": {
              "outlinewidth": 0,
              "ticks": ""
             }
            },
            "type": "parcoords"
           }
          ],
          "pie": [
           {
            "automargin": true,
            "type": "pie"
           }
          ],
          "scatter": [
           {
            "fillpattern": {
             "fillmode": "overlay",
             "size": 10,
             "solidity": 0.2
            },
            "type": "scatter"
           }
          ],
          "scatter3d": [
           {
            "line": {
             "colorbar": {
              "outlinewidth": 0,
              "ticks": ""
             }
            },
            "marker": {
             "colorbar": {
              "outlinewidth": 0,
              "ticks": ""
             }
            },
            "type": "scatter3d"
           }
          ],
          "scattercarpet": [
           {
            "marker": {
             "colorbar": {
              "outlinewidth": 0,
              "ticks": ""
             }
            },
            "type": "scattercarpet"
           }
          ],
          "scattergeo": [
           {
            "marker": {
             "colorbar": {
              "outlinewidth": 0,
              "ticks": ""
             }
            },
            "type": "scattergeo"
           }
          ],
          "scattergl": [
           {
            "marker": {
             "colorbar": {
              "outlinewidth": 0,
              "ticks": ""
             }
            },
            "type": "scattergl"
           }
          ],
          "scattermapbox": [
           {
            "marker": {
             "colorbar": {
              "outlinewidth": 0,
              "ticks": ""
             }
            },
            "type": "scattermapbox"
           }
          ],
          "scatterpolar": [
           {
            "marker": {
             "colorbar": {
              "outlinewidth": 0,
              "ticks": ""
             }
            },
            "type": "scatterpolar"
           }
          ],
          "scatterpolargl": [
           {
            "marker": {
             "colorbar": {
              "outlinewidth": 0,
              "ticks": ""
             }
            },
            "type": "scatterpolargl"
           }
          ],
          "scatterternary": [
           {
            "marker": {
             "colorbar": {
              "outlinewidth": 0,
              "ticks": ""
             }
            },
            "type": "scatterternary"
           }
          ],
          "surface": [
           {
            "colorbar": {
             "outlinewidth": 0,
             "ticks": ""
            },
            "colorscale": [
             [
              0,
              "#0d0887"
             ],
             [
              0.1111111111111111,
              "#46039f"
             ],
             [
              0.2222222222222222,
              "#7201a8"
             ],
             [
              0.3333333333333333,
              "#9c179e"
             ],
             [
              0.4444444444444444,
              "#bd3786"
             ],
             [
              0.5555555555555556,
              "#d8576b"
             ],
             [
              0.6666666666666666,
              "#ed7953"
             ],
             [
              0.7777777777777778,
              "#fb9f3a"
             ],
             [
              0.8888888888888888,
              "#fdca26"
             ],
             [
              1,
              "#f0f921"
             ]
            ],
            "type": "surface"
           }
          ],
          "table": [
           {
            "cells": {
             "fill": {
              "color": "#EBF0F8"
             },
             "line": {
              "color": "white"
             }
            },
            "header": {
             "fill": {
              "color": "#C8D4E3"
             },
             "line": {
              "color": "white"
             }
            },
            "type": "table"
           }
          ]
         },
         "layout": {
          "annotationdefaults": {
           "arrowcolor": "#2a3f5f",
           "arrowhead": 0,
           "arrowwidth": 1
          },
          "autotypenumbers": "strict",
          "coloraxis": {
           "colorbar": {
            "outlinewidth": 0,
            "ticks": ""
           }
          },
          "colorscale": {
           "diverging": [
            [
             0,
             "#8e0152"
            ],
            [
             0.1,
             "#c51b7d"
            ],
            [
             0.2,
             "#de77ae"
            ],
            [
             0.3,
             "#f1b6da"
            ],
            [
             0.4,
             "#fde0ef"
            ],
            [
             0.5,
             "#f7f7f7"
            ],
            [
             0.6,
             "#e6f5d0"
            ],
            [
             0.7,
             "#b8e186"
            ],
            [
             0.8,
             "#7fbc41"
            ],
            [
             0.9,
             "#4d9221"
            ],
            [
             1,
             "#276419"
            ]
           ],
           "sequential": [
            [
             0,
             "#0d0887"
            ],
            [
             0.1111111111111111,
             "#46039f"
            ],
            [
             0.2222222222222222,
             "#7201a8"
            ],
            [
             0.3333333333333333,
             "#9c179e"
            ],
            [
             0.4444444444444444,
             "#bd3786"
            ],
            [
             0.5555555555555556,
             "#d8576b"
            ],
            [
             0.6666666666666666,
             "#ed7953"
            ],
            [
             0.7777777777777778,
             "#fb9f3a"
            ],
            [
             0.8888888888888888,
             "#fdca26"
            ],
            [
             1,
             "#f0f921"
            ]
           ],
           "sequentialminus": [
            [
             0,
             "#0d0887"
            ],
            [
             0.1111111111111111,
             "#46039f"
            ],
            [
             0.2222222222222222,
             "#7201a8"
            ],
            [
             0.3333333333333333,
             "#9c179e"
            ],
            [
             0.4444444444444444,
             "#bd3786"
            ],
            [
             0.5555555555555556,
             "#d8576b"
            ],
            [
             0.6666666666666666,
             "#ed7953"
            ],
            [
             0.7777777777777778,
             "#fb9f3a"
            ],
            [
             0.8888888888888888,
             "#fdca26"
            ],
            [
             1,
             "#f0f921"
            ]
           ]
          },
          "colorway": [
           "#636efa",
           "#EF553B",
           "#00cc96",
           "#ab63fa",
           "#FFA15A",
           "#19d3f3",
           "#FF6692",
           "#B6E880",
           "#FF97FF",
           "#FECB52"
          ],
          "font": {
           "color": "#2a3f5f"
          },
          "geo": {
           "bgcolor": "white",
           "lakecolor": "white",
           "landcolor": "#E5ECF6",
           "showlakes": true,
           "showland": true,
           "subunitcolor": "white"
          },
          "hoverlabel": {
           "align": "left"
          },
          "hovermode": "closest",
          "mapbox": {
           "style": "light"
          },
          "paper_bgcolor": "white",
          "plot_bgcolor": "#E5ECF6",
          "polar": {
           "angularaxis": {
            "gridcolor": "white",
            "linecolor": "white",
            "ticks": ""
           },
           "bgcolor": "#E5ECF6",
           "radialaxis": {
            "gridcolor": "white",
            "linecolor": "white",
            "ticks": ""
           }
          },
          "scene": {
           "xaxis": {
            "backgroundcolor": "#E5ECF6",
            "gridcolor": "white",
            "gridwidth": 2,
            "linecolor": "white",
            "showbackground": true,
            "ticks": "",
            "zerolinecolor": "white"
           },
           "yaxis": {
            "backgroundcolor": "#E5ECF6",
            "gridcolor": "white",
            "gridwidth": 2,
            "linecolor": "white",
            "showbackground": true,
            "ticks": "",
            "zerolinecolor": "white"
           },
           "zaxis": {
            "backgroundcolor": "#E5ECF6",
            "gridcolor": "white",
            "gridwidth": 2,
            "linecolor": "white",
            "showbackground": true,
            "ticks": "",
            "zerolinecolor": "white"
           }
          },
          "shapedefaults": {
           "line": {
            "color": "#2a3f5f"
           }
          },
          "ternary": {
           "aaxis": {
            "gridcolor": "white",
            "linecolor": "white",
            "ticks": ""
           },
           "baxis": {
            "gridcolor": "white",
            "linecolor": "white",
            "ticks": ""
           },
           "bgcolor": "#E5ECF6",
           "caxis": {
            "gridcolor": "white",
            "linecolor": "white",
            "ticks": ""
           }
          },
          "title": {
           "x": 0.05
          },
          "xaxis": {
           "automargin": true,
           "gridcolor": "white",
           "linecolor": "white",
           "ticks": "",
           "title": {
            "standoff": 15
           },
           "zerolinecolor": "white",
           "zerolinewidth": 2
          },
          "yaxis": {
           "automargin": true,
           "gridcolor": "white",
           "linecolor": "white",
           "ticks": "",
           "title": {
            "standoff": 15
           },
           "zerolinecolor": "white",
           "zerolinewidth": 2
          }
         }
        },
        "width": 1600
       }
      }
     },
     "metadata": {},
     "output_type": "display_data"
    }
   ],
   "source": [
    "tmp_places = places_df\n",
    "# split origin (station lat long) into two columns to it's easier to set x and y.\n",
    "tmp_places[['new_lat', 'new_long']] = places_df['origin'].str.split(',', expand=True)\n",
    "\n",
    "# filter for stations that were unable to find places of interest in a 200m radius\n",
    "no_poi = tmp_places[pd.isna(tmp_places['lat'])]\n",
    "\n",
    "# set x and y\n",
    "x = no_poi['new_lat']\n",
    "y = no_poi['new_long']\n",
    "x = x.astype(float)\n",
    "y = y.astype(float)\n",
    "# origin is a string, they need to be floats.\n",
    "\n",
    "# basic plot\n",
    "fig = px.scatter_mapbox(no_poi,lat=x,lon=y,zoom=10,height=1000,width=1600, opacity=1)\n",
    "fig.update_layout(mapbox_style='open-street-map')\n",
    "fig.show()"
   ]
  },
  {
   "cell_type": "code",
   "execution_count": 155,
   "metadata": {},
   "outputs": [],
   "source": [
    "\n",
    "places_grouped = places_df.groupby(['lat', 'long']).size().reset_index(name='counts')\n",
    "x = places_grouped['lat']\n",
    "y = places_grouped['long']\n",
    "\n",
    "fig = px.scatter_mapbox(places_grouped,lat=x,lon=y,zoom=10,height=1000,width=1600,color='counts',size='counts', opacity=0.6)\n",
    "fig.update_layout(mapbox_style='open-street-map')\n",
    "fig.show()"
   ]
  },
  {
   "cell_type": "markdown",
   "metadata": {},
   "source": [
    "# Database"
   ]
  },
  {
   "cell_type": "markdown",
   "metadata": {},
   "source": [
    "Put all your results in an SQLite3 database (remember, SQLite stores its databases as files in your local machine - make sure to create your database in your project's data/ directory!)"
   ]
  },
  {
   "cell_type": "code",
   "execution_count": 9,
   "metadata": {},
   "outputs": [
    {
     "ename": "TypeError",
     "evalue": "to_sql() missing 1 required positional argument: 'con'",
     "output_type": "error",
     "traceback": [
      "\u001b[1;31m---------------------------------------------------------------------------\u001b[0m",
      "\u001b[1;31mTypeError\u001b[0m                                 Traceback (most recent call last)",
      "\u001b[1;32m~\\AppData\\Local\\Temp\\ipykernel_2932\\668343979.py\u001b[0m in \u001b[0;36m<module>\u001b[1;34m\u001b[0m\n\u001b[1;32m----> 1\u001b[1;33m \u001b[0mbike_poi_df\u001b[0m\u001b[1;33m.\u001b[0m\u001b[0mto_sql\u001b[0m\u001b[1;33m(\u001b[0m\u001b[1;34m'../data/bike_poi_df.sql'\u001b[0m\u001b[1;33m)\u001b[0m\u001b[1;33m\u001b[0m\u001b[1;33m\u001b[0m\u001b[0m\n\u001b[0m",
      "\u001b[1;31mTypeError\u001b[0m: to_sql() missing 1 required positional argument: 'con'"
     ]
    }
   ],
   "source": [
    "bike_poi_df.to_sql('../data/bike_poi_df.sql')"
   ]
  },
  {
   "cell_type": "markdown",
   "metadata": {},
   "source": [
    "Look at the data before and after the join to validate your data."
   ]
  },
  {
   "cell_type": "code",
   "execution_count": null,
   "metadata": {},
   "outputs": [],
   "source": []
  }
 ],
 "metadata": {
  "kernelspec": {
   "display_name": "base",
   "language": "python",
   "name": "python3"
  },
  "language_info": {
   "codemirror_mode": {
    "name": "ipython",
    "version": 3
   },
   "file_extension": ".py",
   "mimetype": "text/x-python",
   "name": "python",
   "nbconvert_exporter": "python",
   "pygments_lexer": "ipython3",
   "version": "3.9.13"
  },
  "vscode": {
   "interpreter": {
    "hash": "8a34b3273de5bc47428473d2a098b2b644951547a78dfc045c680f0cd3ff6f5f"
   }
  }
 },
 "nbformat": 4,
 "nbformat_minor": 4
}
