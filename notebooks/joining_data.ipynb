{
 "cells": [
  {
   "cell_type": "code",
   "execution_count": 2,
   "metadata": {},
   "outputs": [],
   "source": [
    "import pandas as pd\n",
    "import sqlite3 as sql\n",
    "import numpy as np"
   ]
  },
  {
   "cell_type": "markdown",
   "metadata": {},
   "source": [
    "Join the data from Part 1 with the data from Part 2 to create a new dataframe."
   ]
  },
  {
   "cell_type": "code",
   "execution_count": 3,
   "metadata": {},
   "outputs": [],
   "source": [
    "places_df = pd.read_csv('../data/foursquare_bikes.csv')\n",
    "stations_df = pd.read_csv('../data/berlin_bikes.csv')\n",
    "\n",
    "# We will have to join on places_df.origin and a new column in stations_df of lat+','+long\n",
    "stations_df['origin'] = stations_df['lat'].astype(str) + ',' + stations_df['long'].astype(str)\n",
    "stations_df = stations_df.drop(['lat','long','Unnamed: 0'], axis=1)\n",
    "\n",
    "places_df = places_df.drop('Unnamed: 0',axis=1)\n",
    "places_df['origin'] = places_df['origin'].astype(str)\n",
    "stations_df['origin'] = stations_df['origin'].astype(str)"
   ]
  },
  {
   "cell_type": "code",
   "execution_count": 4,
   "metadata": {},
   "outputs": [
    {
     "data": {
      "text/html": [
       "<div>\n",
       "<style scoped>\n",
       "    .dataframe tbody tr th:only-of-type {\n",
       "        vertical-align: middle;\n",
       "    }\n",
       "\n",
       "    .dataframe tbody tr th {\n",
       "        vertical-align: top;\n",
       "    }\n",
       "\n",
       "    .dataframe thead th {\n",
       "        text-align: right;\n",
       "    }\n",
       "</style>\n",
       "<table border=\"1\" class=\"dataframe\">\n",
       "  <thead>\n",
       "    <tr style=\"text-align: right;\">\n",
       "      <th></th>\n",
       "      <th>name</th>\n",
       "      <th>distance_meters</th>\n",
       "      <th>category</th>\n",
       "      <th>popularity</th>\n",
       "      <th>rating</th>\n",
       "      <th>lat</th>\n",
       "      <th>long</th>\n",
       "      <th>origin</th>\n",
       "    </tr>\n",
       "  </thead>\n",
       "  <tbody>\n",
       "    <tr>\n",
       "      <th>0</th>\n",
       "      <td>Curry Wolf</td>\n",
       "      <td>29.0</td>\n",
       "      <td>Fast Food Restaurant</td>\n",
       "      <td>0.903641</td>\n",
       "      <td>7.8</td>\n",
       "      <td>52.503902</td>\n",
       "      <td>13.335662</td>\n",
       "      <td>52.504157,13.335328</td>\n",
       "    </tr>\n",
       "  </tbody>\n",
       "</table>\n",
       "</div>"
      ],
      "text/plain": [
       "         name  distance_meters              category  popularity  rating  \\\n",
       "0  Curry Wolf             29.0  Fast Food Restaurant    0.903641     7.8   \n",
       "\n",
       "         lat       long               origin  \n",
       "0  52.503902  13.335662  52.504157,13.335328  "
      ]
     },
     "execution_count": 4,
     "metadata": {},
     "output_type": "execute_result"
    }
   ],
   "source": [
    "places_df.head(1)"
   ]
  },
  {
   "cell_type": "code",
   "execution_count": 5,
   "metadata": {},
   "outputs": [
    {
     "data": {
      "text/html": [
       "<div>\n",
       "<style scoped>\n",
       "    .dataframe tbody tr th:only-of-type {\n",
       "        vertical-align: middle;\n",
       "    }\n",
       "\n",
       "    .dataframe tbody tr th {\n",
       "        vertical-align: top;\n",
       "    }\n",
       "\n",
       "    .dataframe thead th {\n",
       "        text-align: right;\n",
       "    }\n",
       "</style>\n",
       "<table border=\"1\" class=\"dataframe\">\n",
       "  <thead>\n",
       "    <tr style=\"text-align: right;\">\n",
       "      <th></th>\n",
       "      <th>bikes_available</th>\n",
       "      <th>bikes_in_use</th>\n",
       "      <th>total_bikes</th>\n",
       "      <th>origin</th>\n",
       "    </tr>\n",
       "  </thead>\n",
       "  <tbody>\n",
       "    <tr>\n",
       "      <th>0</th>\n",
       "      <td>4</td>\n",
       "      <td>0</td>\n",
       "      <td>4</td>\n",
       "      <td>52.504157,13.335328</td>\n",
       "    </tr>\n",
       "  </tbody>\n",
       "</table>\n",
       "</div>"
      ],
      "text/plain": [
       "   bikes_available  bikes_in_use  total_bikes               origin\n",
       "0                4             0            4  52.504157,13.335328"
      ]
     },
     "execution_count": 5,
     "metadata": {},
     "output_type": "execute_result"
    }
   ],
   "source": [
    "stations_df.head(1)"
   ]
  },
  {
   "attachments": {},
   "cell_type": "markdown",
   "metadata": {},
   "source": [
    "Now that we have two 'Origin' columns we can join them."
   ]
  },
  {
   "cell_type": "code",
   "execution_count": 6,
   "metadata": {},
   "outputs": [],
   "source": [
    "bike_poi_df = pd.merge(places_df,stations_df,on='origin')"
   ]
  },
  {
   "cell_type": "code",
   "execution_count": 7,
   "metadata": {},
   "outputs": [
    {
     "data": {
      "text/html": [
       "<div>\n",
       "<style scoped>\n",
       "    .dataframe tbody tr th:only-of-type {\n",
       "        vertical-align: middle;\n",
       "    }\n",
       "\n",
       "    .dataframe tbody tr th {\n",
       "        vertical-align: top;\n",
       "    }\n",
       "\n",
       "    .dataframe thead th {\n",
       "        text-align: right;\n",
       "    }\n",
       "</style>\n",
       "<table border=\"1\" class=\"dataframe\">\n",
       "  <thead>\n",
       "    <tr style=\"text-align: right;\">\n",
       "      <th></th>\n",
       "      <th>name</th>\n",
       "      <th>distance_meters</th>\n",
       "      <th>category</th>\n",
       "      <th>popularity</th>\n",
       "      <th>rating</th>\n",
       "      <th>lat</th>\n",
       "      <th>long</th>\n",
       "      <th>origin</th>\n",
       "      <th>bikes_available</th>\n",
       "      <th>bikes_in_use</th>\n",
       "      <th>total_bikes</th>\n",
       "    </tr>\n",
       "  </thead>\n",
       "  <tbody>\n",
       "    <tr>\n",
       "      <th>0</th>\n",
       "      <td>Curry Wolf</td>\n",
       "      <td>29.0</td>\n",
       "      <td>Fast Food Restaurant</td>\n",
       "      <td>0.903641</td>\n",
       "      <td>7.8</td>\n",
       "      <td>52.503902</td>\n",
       "      <td>13.335662</td>\n",
       "      <td>52.504157,13.335328</td>\n",
       "      <td>4</td>\n",
       "      <td>0</td>\n",
       "      <td>4</td>\n",
       "    </tr>\n",
       "    <tr>\n",
       "      <th>1</th>\n",
       "      <td>Pull&amp;Bear Ber-Tauentzienstrasse</td>\n",
       "      <td>29.0</td>\n",
       "      <td>Clothing Store</td>\n",
       "      <td>0.988963</td>\n",
       "      <td>7.8</td>\n",
       "      <td>52.504021</td>\n",
       "      <td>13.335963</td>\n",
       "      <td>52.504157,13.335328</td>\n",
       "      <td>4</td>\n",
       "      <td>0</td>\n",
       "      <td>4</td>\n",
       "    </tr>\n",
       "    <tr>\n",
       "      <th>2</th>\n",
       "      <td>Levi Strauss Germany GmbH</td>\n",
       "      <td>19.0</td>\n",
       "      <td>Clothing Store</td>\n",
       "      <td>0.936147</td>\n",
       "      <td>6.7</td>\n",
       "      <td>52.504051</td>\n",
       "      <td>13.334821</td>\n",
       "      <td>52.504157,13.335328</td>\n",
       "      <td>4</td>\n",
       "      <td>0</td>\n",
       "      <td>4</td>\n",
       "    </tr>\n",
       "    <tr>\n",
       "      <th>3</th>\n",
       "      <td>Commerzbank</td>\n",
       "      <td>13.0</td>\n",
       "      <td>Bank</td>\n",
       "      <td>0.995382</td>\n",
       "      <td>6.0</td>\n",
       "      <td>52.504245</td>\n",
       "      <td>13.334703</td>\n",
       "      <td>52.504157,13.335328</td>\n",
       "      <td>4</td>\n",
       "      <td>0</td>\n",
       "      <td>4</td>\n",
       "    </tr>\n",
       "    <tr>\n",
       "      <th>4</th>\n",
       "      <td>Curry Am Ku'damm</td>\n",
       "      <td>10.0</td>\n",
       "      <td>Snack Place</td>\n",
       "      <td>0.781733</td>\n",
       "      <td>NaN</td>\n",
       "      <td>52.504211</td>\n",
       "      <td>13.334964</td>\n",
       "      <td>52.504157,13.335328</td>\n",
       "      <td>4</td>\n",
       "      <td>0</td>\n",
       "      <td>4</td>\n",
       "    </tr>\n",
       "    <tr>\n",
       "      <th>5</th>\n",
       "      <td>Ferri`s Ristorante</td>\n",
       "      <td>13.0</td>\n",
       "      <td>Italian Restaurant</td>\n",
       "      <td>0.970388</td>\n",
       "      <td>5.5</td>\n",
       "      <td>52.504004</td>\n",
       "      <td>13.334877</td>\n",
       "      <td>52.504157,13.335328</td>\n",
       "      <td>4</td>\n",
       "      <td>0</td>\n",
       "      <td>4</td>\n",
       "    </tr>\n",
       "    <tr>\n",
       "      <th>6</th>\n",
       "      <td>Peter Pane BURGERGRILL - BAR</td>\n",
       "      <td>31.0</td>\n",
       "      <td>Bar</td>\n",
       "      <td>0.979920</td>\n",
       "      <td>NaN</td>\n",
       "      <td>52.503802</td>\n",
       "      <td>13.335669</td>\n",
       "      <td>52.504157,13.335328</td>\n",
       "      <td>4</td>\n",
       "      <td>0</td>\n",
       "      <td>4</td>\n",
       "    </tr>\n",
       "    <tr>\n",
       "      <th>7</th>\n",
       "      <td>Allgemeine Beamten Kasse Kreditbank</td>\n",
       "      <td>36.0</td>\n",
       "      <td>Bank</td>\n",
       "      <td>0.386057</td>\n",
       "      <td>NaN</td>\n",
       "      <td>52.503636</td>\n",
       "      <td>13.335423</td>\n",
       "      <td>52.504157,13.335328</td>\n",
       "      <td>4</td>\n",
       "      <td>0</td>\n",
       "      <td>4</td>\n",
       "    </tr>\n",
       "    <tr>\n",
       "      <th>8</th>\n",
       "      <td>Zaddy's</td>\n",
       "      <td>42.0</td>\n",
       "      <td>Diner</td>\n",
       "      <td>0.978734</td>\n",
       "      <td>5.9</td>\n",
       "      <td>52.504071</td>\n",
       "      <td>13.336463</td>\n",
       "      <td>52.504157,13.335328</td>\n",
       "      <td>4</td>\n",
       "      <td>0</td>\n",
       "      <td>4</td>\n",
       "    </tr>\n",
       "    <tr>\n",
       "      <th>9</th>\n",
       "      <td>Mode&amp;Schmuck 24 GmbH</td>\n",
       "      <td>41.0</td>\n",
       "      <td>NaN</td>\n",
       "      <td>0.249345</td>\n",
       "      <td>NaN</td>\n",
       "      <td>52.504252</td>\n",
       "      <td>13.334806</td>\n",
       "      <td>52.504157,13.335328</td>\n",
       "      <td>4</td>\n",
       "      <td>0</td>\n",
       "      <td>4</td>\n",
       "    </tr>\n",
       "  </tbody>\n",
       "</table>\n",
       "</div>"
      ],
      "text/plain": [
       "                                  name  distance_meters              category  \\\n",
       "0                           Curry Wolf             29.0  Fast Food Restaurant   \n",
       "1      Pull&Bear Ber-Tauentzienstrasse             29.0        Clothing Store   \n",
       "2            Levi Strauss Germany GmbH             19.0        Clothing Store   \n",
       "3                          Commerzbank             13.0                  Bank   \n",
       "4                     Curry Am Ku'damm             10.0           Snack Place   \n",
       "5                   Ferri`s Ristorante             13.0    Italian Restaurant   \n",
       "6         Peter Pane BURGERGRILL - BAR             31.0                   Bar   \n",
       "7  Allgemeine Beamten Kasse Kreditbank             36.0                  Bank   \n",
       "8                              Zaddy's             42.0                 Diner   \n",
       "9                 Mode&Schmuck 24 GmbH             41.0                   NaN   \n",
       "\n",
       "   popularity  rating        lat       long               origin  \\\n",
       "0    0.903641     7.8  52.503902  13.335662  52.504157,13.335328   \n",
       "1    0.988963     7.8  52.504021  13.335963  52.504157,13.335328   \n",
       "2    0.936147     6.7  52.504051  13.334821  52.504157,13.335328   \n",
       "3    0.995382     6.0  52.504245  13.334703  52.504157,13.335328   \n",
       "4    0.781733     NaN  52.504211  13.334964  52.504157,13.335328   \n",
       "5    0.970388     5.5  52.504004  13.334877  52.504157,13.335328   \n",
       "6    0.979920     NaN  52.503802  13.335669  52.504157,13.335328   \n",
       "7    0.386057     NaN  52.503636  13.335423  52.504157,13.335328   \n",
       "8    0.978734     5.9  52.504071  13.336463  52.504157,13.335328   \n",
       "9    0.249345     NaN  52.504252  13.334806  52.504157,13.335328   \n",
       "\n",
       "   bikes_available  bikes_in_use  total_bikes  \n",
       "0                4             0            4  \n",
       "1                4             0            4  \n",
       "2                4             0            4  \n",
       "3                4             0            4  \n",
       "4                4             0            4  \n",
       "5                4             0            4  \n",
       "6                4             0            4  \n",
       "7                4             0            4  \n",
       "8                4             0            4  \n",
       "9                4             0            4  "
      ]
     },
     "execution_count": 7,
     "metadata": {},
     "output_type": "execute_result"
    }
   ],
   "source": [
    "bike_poi_df.head(10)"
   ]
  },
  {
   "cell_type": "markdown",
   "metadata": {},
   "source": [
    "Provide a visualization that you used as part of your EDA process. Explain the initial pattern or relationship you discoved through this visualization. "
   ]
  },
  {
   "cell_type": "code",
   "execution_count": null,
   "metadata": {},
   "outputs": [],
   "source": [
    "# This is by far the one I had the most fun with and it provides excellent easily digestible context for the data.\n",
    "# plotly.express has a really cool feature where you can scatter plots onto a detailed interactive map.\n",
    "\n",
    "import plotly.express as px\n",
    "tmp_stations_df = pd.read_csv('../data/berlin_bikes.csv')\n",
    "# set x and y\n",
    "x = tmp_stations_df['lat']\n",
    "y = tmp_stations_df['long']\n",
    "\n",
    "fig = px.scatter_mapbox(tmp_stations_df,lat=x,lon=y,zoom=10,height=1000,width=1600,color='total_bikes',size='bikes_in_use', opacity=1)\n",
    "#                       df we're using, x,      y   ------self explanitory-------- set gradient and size for spectrum of values in set column.\n",
    "fig.update_layout(mapbox_style='open-street-map')\n",
    "fig.show()\n",
    "\n",
    "# This first plot is pretty basic. we're just plotting the location of every station, darker colored stations have fewer bikes and brighter stations have more bikes. Smaller stations have fewer bikes being used and larger have more."
   ]
  },
  {
   "attachments": {},
   "cell_type": "markdown",
   "metadata": {},
   "source": [
    "![image not loaded](https://media.discordapp.net/attachments/1063653051602321462/1069017577587757129/map_1.PNG?width=1153&height=661)"
   ]
  },
  {
   "attachments": {},
   "cell_type": "markdown",
   "metadata": {},
   "source": [
    "From this first plot there's quite a few patterns we can pick out.\n",
    "* In the city center there's low total bike stations distributed in a dense grid pattern. In a lot of the city there's one on every corner.\n",
    "* The biggest bike stations are most often by parks/nature or plazas/old city shopping centres. Parks and Nature paths aren't picked up in the foursquares search so there's some neglect of relevant information there.\n",
    "    * The north east station in the park by the campus is massive and very busy. The other bike stations, especially by the dorms are also busy.\n",
    "    * In the heart of Berlin (GeorgenStrase) There's a big, very busy, bike station that likely has a route along the river. This is probably a big tourist spot.\n",
    "    * However in the west, out of the city, there's a large park called Grunewald that isn't that popular for biking. I wonder why that is. Could this be used more by locals and not tourists?\n",
    "* While the outskirts of Berlin don't have a lot of stations there's some locality's that have quite a few. This presents a pattern in their growth out of mostly a residential community of Berlin into more of a little city of its own. (Tegel, Rummelburg and furthest away is Hellendorf)."
   ]
  },
  {
   "cell_type": "code",
   "execution_count": null,
   "metadata": {},
   "outputs": [],
   "source": [
    "tmp_places = places_df\n",
    "# split origin (station lat long) into two columns to it's easier to set x and y.\n",
    "tmp_places[['new_lat', 'new_long']] = places_df['origin'].str.split(',', expand=True)\n",
    "\n",
    "# filter for stations that were unable to find places of interest in a 200m radius\n",
    "no_poi = tmp_places[pd.isna(tmp_places['lat'])]\n",
    "\n",
    "# set x and y\n",
    "x = no_poi['new_lat']\n",
    "y = no_poi['new_long']\n",
    "x = x.astype(float)\n",
    "y = y.astype(float)\n",
    "# origin is a string, they need to be floats.\n",
    "\n",
    "# basic plot                                                                           make all plots bright red\n",
    "fig = px.scatter_mapbox(no_poi,lat=x,lon=y,zoom=10,height=1000,width=1600, opacity=0.8,color_discrete_sequence=['red'])\n",
    "fig.update_layout(mapbox_style='open-street-map')\n",
    "#                 increase size\n",
    "fig.update_traces(marker={'size': 15})\n",
    "fig.show()"
   ]
  },
  {
   "attachments": {},
   "cell_type": "markdown",
   "metadata": {},
   "source": [
    "![image not loaded](https://cdn.discordapp.com/attachments/1063653051602321462/1069022258758168736/image.png)"
   ]
  },
  {
   "attachments": {},
   "cell_type": "markdown",
   "metadata": {},
   "source": [
    "This marks all stations that were unable to return a POI in a 200m radius. Zooming in on them we can see a lot of them are in residential areas, a good amount are by parks/nature, and a couple are by academic areas/housing.\n",
    "\n",
    "Compare the northwest Buch campus cluster in this map to the previous. In this map the north eastern most large, active dot is missing. This is because to the north of the campus there's all sorts of shopping and businesses.\n",
    "\n",
    "Considering the north west point in the campus cluster is the biggest, most active station in the dataset. It's alarming that these connections are completely neglected.\n",
    "\n",
    "For now I'm going to assign the category in each of these instances to 'residential/recreational' I've thought about adding ~5 rows for each instance to give this new category more weight over the dataset. If a station was by a bunch of clothing stores then rows with the category 'clothing' would be added x amount of times populating the database a ton with this category. For now I will leave it to one row per station though. I think this could be fine since this new category also implies isolation which will convey its own weight if that makes sense.\n",
    "\n",
    "(At this zoom level these dots are also about the size of the area they are scanning)"
   ]
  },
  {
   "cell_type": "code",
   "execution_count": 20,
   "metadata": {},
   "outputs": [],
   "source": [
    "bike_poi_df['category'] = bike_poi_df['category'].where(bike_poi_df['lat'].notna(), 'residential/recreation')"
   ]
  },
  {
   "cell_type": "code",
   "execution_count": 21,
   "metadata": {},
   "outputs": [
    {
     "data": {
      "text/plain": [
       "name                0\n",
       "distance_meters     0\n",
       "category           37\n",
       "popularity          0\n",
       "rating              0\n",
       "lat                 0\n",
       "long                0\n",
       "origin             37\n",
       "bikes_available    37\n",
       "bikes_in_use       37\n",
       "total_bikes        37\n",
       "dtype: int64"
      ]
     },
     "execution_count": 21,
     "metadata": {},
     "output_type": "execute_result"
    }
   ],
   "source": [
    "bike_poi_df[bike_poi_df['category'] == 'residential/recreation'].count()\n",
    "# It worked"
   ]
  },
  {
   "attachments": {},
   "cell_type": "markdown",
   "metadata": {},
   "source": [
    "On this topic there's a lot more categories that are na."
   ]
  },
  {
   "cell_type": "code",
   "execution_count": 12,
   "metadata": {},
   "outputs": [
    {
     "data": {
      "text/html": [
       "<div>\n",
       "<style scoped>\n",
       "    .dataframe tbody tr th:only-of-type {\n",
       "        vertical-align: middle;\n",
       "    }\n",
       "\n",
       "    .dataframe tbody tr th {\n",
       "        vertical-align: top;\n",
       "    }\n",
       "\n",
       "    .dataframe thead th {\n",
       "        text-align: right;\n",
       "    }\n",
       "</style>\n",
       "<table border=\"1\" class=\"dataframe\">\n",
       "  <thead>\n",
       "    <tr style=\"text-align: right;\">\n",
       "      <th></th>\n",
       "      <th>name</th>\n",
       "      <th>distance_meters</th>\n",
       "      <th>category</th>\n",
       "      <th>popularity</th>\n",
       "      <th>rating</th>\n",
       "      <th>lat</th>\n",
       "      <th>long</th>\n",
       "      <th>origin</th>\n",
       "      <th>bikes_available</th>\n",
       "      <th>bikes_in_use</th>\n",
       "      <th>total_bikes</th>\n",
       "    </tr>\n",
       "  </thead>\n",
       "  <tbody>\n",
       "    <tr>\n",
       "      <th>9</th>\n",
       "      <td>Mode&amp;Schmuck 24 GmbH</td>\n",
       "      <td>41.0</td>\n",
       "      <td>NaN</td>\n",
       "      <td>0.249345</td>\n",
       "      <td>NaN</td>\n",
       "      <td>52.504252</td>\n",
       "      <td>13.334806</td>\n",
       "      <td>52.504157,13.335328</td>\n",
       "      <td>4</td>\n",
       "      <td>0</td>\n",
       "      <td>4</td>\n",
       "    </tr>\n",
       "    <tr>\n",
       "      <th>18</th>\n",
       "      <td>Albig Becker Entezami Gasiorek-wiens Knoll</td>\n",
       "      <td>33.0</td>\n",
       "      <td>NaN</td>\n",
       "      <td>NaN</td>\n",
       "      <td>NaN</td>\n",
       "      <td>52.504443</td>\n",
       "      <td>13.335464</td>\n",
       "      <td>52.504157,13.335328</td>\n",
       "      <td>4</td>\n",
       "      <td>0</td>\n",
       "      <td>4</td>\n",
       "    </tr>\n",
       "    <tr>\n",
       "      <th>70</th>\n",
       "      <td>Balfanz Ingo - SUBSTANZFINANZ - Berlin</td>\n",
       "      <td>51.0</td>\n",
       "      <td>NaN</td>\n",
       "      <td>NaN</td>\n",
       "      <td>NaN</td>\n",
       "      <td>52.496980</td>\n",
       "      <td>13.291967</td>\n",
       "      <td>52.496986,13.29121</td>\n",
       "      <td>0</td>\n",
       "      <td>4</td>\n",
       "      <td>4</td>\n",
       "    </tr>\n",
       "    <tr>\n",
       "      <th>75</th>\n",
       "      <td>Hermes PaketShop</td>\n",
       "      <td>52.0</td>\n",
       "      <td>NaN</td>\n",
       "      <td>NaN</td>\n",
       "      <td>NaN</td>\n",
       "      <td>52.497458</td>\n",
       "      <td>13.291179</td>\n",
       "      <td>52.496986,13.29121</td>\n",
       "      <td>0</td>\n",
       "      <td>4</td>\n",
       "      <td>4</td>\n",
       "    </tr>\n",
       "    <tr>\n",
       "      <th>78</th>\n",
       "      <td>Lotus Blumen</td>\n",
       "      <td>55.0</td>\n",
       "      <td>NaN</td>\n",
       "      <td>NaN</td>\n",
       "      <td>NaN</td>\n",
       "      <td>52.497476</td>\n",
       "      <td>13.291048</td>\n",
       "      <td>52.496986,13.29121</td>\n",
       "      <td>0</td>\n",
       "      <td>4</td>\n",
       "      <td>4</td>\n",
       "    </tr>\n",
       "  </tbody>\n",
       "</table>\n",
       "</div>"
      ],
      "text/plain": [
       "                                          name  distance_meters category  \\\n",
       "9                         Mode&Schmuck 24 GmbH             41.0      NaN   \n",
       "18  Albig Becker Entezami Gasiorek-wiens Knoll             33.0      NaN   \n",
       "70      Balfanz Ingo - SUBSTANZFINANZ - Berlin             51.0      NaN   \n",
       "75                            Hermes PaketShop             52.0      NaN   \n",
       "78                                Lotus Blumen             55.0      NaN   \n",
       "\n",
       "    popularity  rating        lat       long               origin  \\\n",
       "9     0.249345     NaN  52.504252  13.334806  52.504157,13.335328   \n",
       "18         NaN     NaN  52.504443  13.335464  52.504157,13.335328   \n",
       "70         NaN     NaN  52.496980  13.291967   52.496986,13.29121   \n",
       "75         NaN     NaN  52.497458  13.291179   52.496986,13.29121   \n",
       "78         NaN     NaN  52.497476  13.291048   52.496986,13.29121   \n",
       "\n",
       "    bikes_available  bikes_in_use  total_bikes  \n",
       "9                 4             0            4  \n",
       "18                4             0            4  \n",
       "70                0             4            4  \n",
       "75                0             4            4  \n",
       "78                0             4            4  "
      ]
     },
     "execution_count": 12,
     "metadata": {},
     "output_type": "execute_result"
    }
   ],
   "source": [
    "bike_poi_df[pd.isna(bike_poi_df['category'])].head()\n"
   ]
  },
  {
   "attachments": {},
   "cell_type": "markdown",
   "metadata": {},
   "source": [
    "There's 6277, that's about %13 of our data.\n",
    "\n",
    "Googling the names I immediatley found a pattern where these are a lot of headquarters/offices for companies that don't have much of a public presence. for example I translated this description of one.\n",
    "\n",
    "'The acquisition, holding and management of real estate projects, in particular the property Junckersstrasse 35/36 in Dessau and all related transactions... '\n",
    "\n",
    "There's really no need for them to have much of an internet presence other than a public address so the clients they do have / new employees or whoever can find their office / headquarters.\n",
    "\n",
    "I could rename all these categories to 'private' but I worry about how much weight it would have.\n",
    "\n",
    "The most popular category for example is 'Business and Professional Services' at 2987.\n",
    "\n",
    "Changing ~6200 rows category to the same thing would really harm it. Especially when a lot of the businesses can be sorted into more specific categories that are very different from eachother.\n",
    "\n",
    "For now I'm going to leave them alone. They still bring meaningful value to the dataset because they're tied to the station closest to them and will be included in a count.\n",
    "\n",
    "I can also always clone this df and make changes to these NaN categories if I want to. One idea is to spend a bit more time googling them and find the most common categories they fall under then name a fraction of them each category. It would harm the relevance of the lat and long but could be useful in some other scenarios."
   ]
  },
  {
   "cell_type": "code",
   "execution_count": null,
   "metadata": {},
   "outputs": [],
   "source": [
    "# Now that that tangent is done this is the last example I'll do of this map I love.\n",
    "# Here we are plotting the overlap of POIs\n",
    "places_grouped = places_df.groupby(['lat', 'long']).size().reset_index(name='counts')\n",
    "x = places_grouped['lat']\n",
    "y = places_grouped['long']\n",
    "\n",
    "fig = px.scatter_mapbox(places_grouped,lat=x,lon=y,zoom=10,height=1000,width=1600,color='counts',size='counts', opacity=0.6)\n",
    "fig.update_layout(mapbox_style='open-street-map')\n",
    "fig.show()"
   ]
  },
  {
   "attachments": {},
   "cell_type": "markdown",
   "metadata": {},
   "source": [
    "![failed to load](https://cdn.discordapp.com/attachments/1063653051602321462/1069049057827377233/image.png)"
   ]
  },
  {
   "attachments": {},
   "cell_type": "markdown",
   "metadata": {},
   "source": [
    "In this plot both the size and color of the marker is tied to how frequently it occurs in the dataframe.\n",
    "\n",
    "I chose a much smaller radius of 200m instead of the recommended 1km. This is because when using the yelp and foursquare api you can not, as far as I know, return POI search results ordered by how close they are to the given lat and long. Instead it just returns the first 50 it finds that are in the radius.\n",
    "\n",
    "Look at the big yellow dot in the South-East city center. This must be a place that is evaluated very early. If our radius was higher this point would occur very very frequently even for stations that are as far away as possible.\n",
    "\n",
    "Here is another way to interpret how results are being returned and causing overlay (this is not actually what is running on their end, a dumbed down SQL query just communicates it well)\n",
    "```SQL\n",
    "SELECT * FROM poi_table WHERE distance < radius LIMIT 50\n",
    "```\n",
    "Vs what I would prefer to have return\n",
    "```SQL\n",
    "SELECT * FROM poi_table WHERE distance < radius ORDER BY distance LIMIT 50\n",
    "```\n",
    "\n",
    "Take a quick look at [this land use map of Berlin.](https://lichfields.uk/media/4109/berlin-land-use-map-extract.jpg)\n",
    "\n",
    "The size of our radius fits pretty well within these zones so I'm confident even in the instances where there is significant overlap it will still be representative of the zone it's in.\n",
    "\n",
    "All in all I think 200m is right in the goldilocks zone for my radius. Only a tiny percentage of stations weren't able to detect a POI and when we investigated it we found meaningful information out of it. Of the other stations they were all able to grab POIs that were meaningful to their location without stepping on the other bike stations toes too much.\n",
    "\n",
    "The large circles also show us a pattern in developement. There's many areas (often by water or parks) where there's a good amount of bike stations but not really any POIs meaning that the bike stations / trails are the POIs!"
   ]
  },
  {
   "cell_type": "code",
   "execution_count": 14,
   "metadata": {},
   "outputs": [],
   "source": [
    "import os\n",
    "import requests\n",
    "from PIL import Image\n",
    "import io\n",
    "key = os.environ['TOMTOM_KEY']"
   ]
  },
  {
   "cell_type": "code",
   "execution_count": 30,
   "metadata": {},
   "outputs": [],
   "source": [
    "# relative relative0 absolute reduced-sensitivity   // 11 zoom - 11/1100/671 // zoom in one step more - 12/2200/1343\n",
    "url = 'https://api.tomtom.com/traffic/map/4/tile/flow/relative0/12/2200/1343.png?key='+key\n",
    "response = requests.get(url).content\n",
    "in_memory_file = io.BytesIO(response)\n",
    "im = Image.open(in_memory_file)\n",
    "im.show()\n",
    "# Images generated when it was 12:34pm in Berlin\n",
    "# This is a neat traffic flow api I found. It took quite a bit of fiddling around but it can provide some neat insights into the areas of Berlin with the worst traffic and how much bikes are utilized there."
   ]
  },
  {
   "cell_type": "code",
   "execution_count": 16,
   "metadata": {},
   "outputs": [
    {
     "data": {
      "text/plain": [
       "<AxesSubplot:>"
      ]
     },
     "execution_count": 16,
     "metadata": {},
     "output_type": "execute_result"
    },
    {
     "data": {
      "image/png": "[encoded data removed]",
      "text/plain": [
       "<Figure size 640x480 with 2 Axes>"
      ]
     },
     "metadata": {},
     "output_type": "display_data"
    }
   ],
   "source": [
    "import seaborn as sns\n",
    "fig = bike_poi_df.corr()\n",
    "sns.heatmap(fig,annot=True)"
   ]
  },
  {
   "attachments": {},
   "cell_type": "markdown",
   "metadata": {},
   "source": [
    "![failed to load](https://cdn.discordapp.com/attachments/1063653051602321462/1069058131239387156/image.png)"
   ]
  },
  {
   "attachments": {},
   "cell_type": "markdown",
   "metadata": {},
   "source": [
    "Finally and very quickly here's my correlation heatmap. There isn't a lot to right home about here.\n",
    "\n",
    "I was hoping there would be a stronger correlation between lat/long and total_bikes because there is a pattern where near the city center there's more bike stations but they have less bikes (usually 4) and then further out there's less stations with more bikes. There are some stations in the heart of Berlin with tons of bikes to them so I guess that throws that off."
   ]
  },
  {
   "cell_type": "code",
   "execution_count": 17,
   "metadata": {},
   "outputs": [],
   "source": [
    "bike_poi_df.to_csv('../data/joined_bikes.csv')"
   ]
  },
  {
   "cell_type": "markdown",
   "metadata": {},
   "source": [
    "# Database"
   ]
  },
  {
   "cell_type": "markdown",
   "metadata": {},
   "source": [
    "Put all your results in an SQLite3 database (remember, SQLite stores its databases as files in your local machine - make sure to create your database in your project's data/ directory!)"
   ]
  },
  {
   "cell_type": "code",
   "execution_count": 18,
   "metadata": {},
   "outputs": [],
   "source": [
    "conn = sql.connect('../data/bike_poi.db')"
   ]
  },
  {
   "cell_type": "code",
   "execution_count": null,
   "metadata": {},
   "outputs": [],
   "source": [
    "bike_poi_df.to_sql('station_and_poi',conn,index=False)"
   ]
  },
  {
   "cell_type": "code",
   "execution_count": null,
   "metadata": {
    "vscode": {
     "languageId": "sql"
    }
   },
   "outputs": [],
   "source": [
    "SELECT * FROM station_and_poi"
   ]
  },
  {
   "attachments": {},
   "cell_type": "markdown",
   "metadata": {},
   "source": [
    "It works\n"
   ]
  },
  {
   "cell_type": "markdown",
   "metadata": {},
   "source": [
    "Look at the data before and after the join to validate your data."
   ]
  },
  {
   "attachments": {},
   "cell_type": "markdown",
   "metadata": {},
   "source": [
    "Here is the output from my SQL query:\n",
    "![failed to load](https://cdn.discordapp.com/attachments/1063653051602321462/1069060650522906724/image.png)\n",
    "Here is the output from the pandas dataframe:\n",
    "![failed to load](https://cdn.discordapp.com/attachments/1063653051602321462/1069061524326457395/image.png)"
   ]
  },
  {
   "attachments": {},
   "cell_type": "markdown",
   "metadata": {},
   "source": [
    "We did a left join where the df with all of the places was the left df and the df with the stations and bike info was the right df. We joined on 'Origin' which is the lat and long of the station / the origin of the radius it scanned in. Now for every single POI we have some info about the station it's associated with.\n",
    "\n",
    "The left df and the new df have the same rows and the origin is relevant to the lat and long.\n",
    "\n",
    "We can be very confident these two tables have joined successfully."
   ]
  },
  {
   "cell_type": "markdown",
   "metadata": {},
   "source": []
  }
 ],
 "metadata": {
  "kernelspec": {
   "display_name": "base",
   "language": "python",
   "name": "python3"
  },
  "language_info": {
   "codemirror_mode": {
    "name": "ipython",
    "version": 3
   },
   "file_extension": ".py",
   "mimetype": "text/x-python",
   "name": "python",
   "nbconvert_exporter": "python",
   "pygments_lexer": "ipython3",
   "version": "3.9.13"
  },
  "vscode": {
   "interpreter": {
    "hash": "8a34b3273de5bc47428473d2a098b2b644951547a78dfc045c680f0cd3ff6f5f"
   }
  }
 },
 "nbformat": 4,
 "nbformat_minor": 4
}
