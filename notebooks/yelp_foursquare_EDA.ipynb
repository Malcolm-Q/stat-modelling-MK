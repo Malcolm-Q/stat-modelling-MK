{
 "cells": [
  {
   "cell_type": "code",
   "execution_count": 1,
   "metadata": {},
   "outputs": [],
   "source": [
    "# imports\n",
    "import pandas as pd\n",
    "import numpy as np\n",
    "import requests\n",
    "import os"
   ]
  },
  {
   "cell_type": "markdown",
   "metadata": {},
   "source": [
    "# Foursquare"
   ]
  },
  {
   "cell_type": "markdown",
   "metadata": {},
   "source": [
    "Send a request to Foursquare with a small radius (1000m) for all the bike stations in your city of choice. "
   ]
  },
  {
   "cell_type": "code",
   "execution_count": 2,
   "metadata": {},
   "outputs": [
    {
     "name": "stdout",
     "output_type": "stream",
     "text": [
      "   bikes_available  bikes_in_use  total_bikes             lat_long\n",
      "0                4             0            4  52.504157,13.335328\n",
      "1                0             4            4   52.496986,13.29121\n",
      "2                3             2            5  52.498323,13.296157\n"
     ]
    }
   ],
   "source": [
    "# Load data on our stations from Part 1\n",
    "berlin_bikes = pd.read_csv('../data/berlin_bikes.csv')\n",
    "\n",
    "# Whoops, it exported with an extra column that just holds the index. Let's drop it.\n",
    "berlin_bikes = berlin_bikes.drop('Unnamed: 0',axis=1)\n",
    "\n",
    "# In Foursquare, lat & long params need to be passed as '<lat>,<long>'\n",
    "# Create a column of strings formatted as such so we don't have to do this nasty conversion when passing 'll' in params\n",
    "berlin_bikes['lat_long'] = berlin_bikes['lat'].astype(str) + ',' + berlin_bikes['long'].astype(str)\n",
    "\n",
    "# Drop the old redundant columns that are cluttering our simple dataframe.\n",
    "berlin_bikes = berlin_bikes.drop(['lat','long'],axis=1)\n",
    "print(berlin_bikes.head(3))\n",
    "\n",
    "\n",
    "# [ Our station data is now set up appropriately ]"
   ]
  },
  {
   "cell_type": "code",
   "execution_count": 3,
   "metadata": {},
   "outputs": [],
   "source": [
    "# Set out API key for Foursquare\n",
    "api_key = os.environ[\"FOURSQUARE_API_KEY\"]\n",
    "\n",
    "# Set Foursquare url\n",
    "url = 'https://api.foursquare.com/v3/places/search'\n",
    "\n",
    "# Function that sends a request with each passed location\n",
    "def general_1km_scan(location):\n",
    "    # Request .Json response and attatch our key.\n",
    "    headers = {\n",
    "        'accept': 'application/json',\n",
    "        'Authorization': api_key\n",
    "    }\n",
    "    # only needed parameter is lat and long\n",
    "    parameters = {\n",
    "        'll': location,\n",
    "        'radius':'500'\n",
    "    }\n",
    "\n",
    "    response = requests.get(url,headers=headers,params=parameters)\n",
    "\n",
    "    return response.json()\n",
    "\n",
    "\n",
    "# [ This for loop calls the above function for every station in city ]\n",
    "'''\n",
    "for station in berlin_bikes['lat_long'].values:\n",
    "    print(general_1km_scan(station))\n",
    "'''\n",
    "# There are 1808 stations in Berlin so I'm going to run a variation of the loop that takes the first 3\n",
    "\n",
    "\n",
    "for station in berlin_bikes['lat_long'][:3].values:\n",
    "    # print(general_1km_scan(station))\n",
    "    # uncomment the above print to get an idea\n",
    "    pass\n",
    "# This outputs a ton of data"
   ]
  },
  {
   "cell_type": "markdown",
   "metadata": {},
   "source": [
    "Parse through the response to get the POI (such as restaurants, bars, etc) details you want (ratings, name, location, etc)"
   ]
  },
  {
   "cell_type": "code",
   "execution_count": 4,
   "metadata": {},
   "outputs": [],
   "source": [
    "# I'm going to try use a class here to make things more readable.\n",
    "class harvestData:\n",
    "    def __init__(self, _response,origin):\n",
    "        # The only thing we need to pass is the .json response\n",
    "        self.name = pd.Series(_response['name'],name='name')\n",
    "        self.distance = pd.Series(_response['distance'],name='distance_meters')\n",
    "        try:self.category = pd.Series(_response['categories'][0]['name'],name='category')\n",
    "        except:self.category = pd.Series(np.nan,name='category')\n",
    "        self.lat = pd.Series(_response['geocodes']['main']['latitude'],name='lat')\n",
    "        self.long = pd.Series(_response['geocodes']['main']['longitude'],name='long')\n",
    "        self.origin = pd.Series(origin,name='origin')\n",
    "        # These three fields are standard \n",
    "\n",
    "        # However these two 'POI Rich Data' fields are said to not always be populated. For that reason we'll use try and except.\n",
    "        try: self.popularity = pd.Series(_response['popularity'],name='popularity')\n",
    "        except: self.popularity = pd.Series(np.nan,name='popularity')\n",
    "\n",
    "        try:self.rating = pd.Series(_response['rating'],name='rating')\n",
    "        except:self.rating = pd.Series(np.nan,name='rating')\n",
    "        # now we don't need to use these ugly nested dictionaries and lists again!\n",
    "\n",
    "\n",
    "# This will only be called if Foursquare doesn't return any nearby POIs\n",
    "class emptyStation:\n",
    "    def __init__(self, _response,origin):\n",
    "        # Set everything to nan\n",
    "        self.name = pd.Series(np.nan, name='name')\n",
    "        self.distance = pd.Series(np.nan, name='distance_meters')\n",
    "        self.category = pd.Series(np.nan, name='category')\n",
    "        self.lat = pd.Series(np.nan, name='lat')\n",
    "        self.long = pd.Series(np.nan, name='long')\n",
    "        self.origin = pd.Series(origin,name='origin')\n",
    "        self.popularity = pd.Series(np.nan,name='popularity')\n",
    "        self.rating = pd.Series(np.nan,name='rating')"
   ]
  },
  {
   "cell_type": "code",
   "execution_count": 5,
   "metadata": {},
   "outputs": [],
   "source": [
    "# Trim the fat on this response by using the fields parameter\n",
    "def general_100m_scan(location):\n",
    "    headers = {\n",
    "        'accept': 'application/json',\n",
    "        'Authorization': api_key\n",
    "    }\n",
    "    parameters = {\n",
    "        'll': location,\n",
    "        'radius':'100', # lower radius is the only way to attempt to avoid overlap that would harm analysis.\n",
    "        'fields' : 'name,distance,categories,popularity,rating,geocodes',\n",
    "        'limit':'50' # max limit is 50\n",
    "    }\n",
    "\n",
    "    response = requests.get(url,headers=headers,params=parameters)\n",
    "\n",
    "    return response.json()\n",
    "poi = general_100m_scan(berlin_bikes['lat_long'][0])\n",
    "poi = harvestData(poi['results'][0],berlin_bikes['lat_long'][0])"
   ]
  },
  {
   "cell_type": "code",
   "execution_count": 6,
   "metadata": {},
   "outputs": [
    {
     "name": "stdout",
     "output_type": "stream",
     "text": [
      "name - Curry Wolf\n",
      "distance - 29 meters\n",
      "category - Fast Food Restaurant\n",
      "lat - 52.503902\n",
      "long - 13.335662\n",
      "popularity - 0.9036409859379204\n",
      "rating - 7.8\n",
      "origin - 52.504157,13.335328\n"
     ]
    }
   ],
   "source": [
    "print('name -',poi.name[0])\n",
    "print('distance -',poi.distance[0],'meters')\n",
    "print('category -',poi.category[0])\n",
    "print('lat -',poi.lat[0])\n",
    "print('long -',poi.long[0])\n",
    "\n",
    "# These two will be np.nan if the rich data is not available.\n",
    "print('popularity -',poi.popularity[0])\n",
    "print('rating -',poi.rating[0])\n",
    "print('origin -',poi.origin[0])\n",
    "# This looks way better than when I didn't use a custom class in city_bikes."
   ]
  },
  {
   "cell_type": "markdown",
   "metadata": {},
   "source": [
    "Put your parsed results into a DataFrame"
   ]
  },
  {
   "cell_type": "code",
   "execution_count": 7,
   "metadata": {},
   "outputs": [],
   "source": [
    "compiled_df = pd.DataFrame()\n",
    "\n",
    "def add_rows(poi):\n",
    "    tmp = pd.concat([\n",
    "        poi.name,\n",
    "        poi.distance,\n",
    "        poi.category,\n",
    "        poi.popularity,\n",
    "        poi.rating,\n",
    "        poi.lat,\n",
    "        poi.long,\n",
    "        poi.origin\n",
    "    ], axis=1)\n",
    "    main = pd.concat([compiled_df,tmp])\n",
    "    return main\n",
    "\n",
    "# Iterate through coordinates of each bike station in berlin.\n",
    "for station in berlin_bikes.lat_long.values: # (add '[:n]' after values for sample.)\n",
    "    # Scan area for POIs\n",
    "    response = general_100m_scan(station)\n",
    "\n",
    "    # If nothing is detected. Enter a row of mostly NaN\n",
    "    if len(response['results']) == 0:\n",
    "        poi = emptyStation(response,station)\n",
    "        compiled_df = add_rows(poi)\n",
    "    else:\n",
    "        # Otherwise, add each result as a row\n",
    "        for result in response['results']:\n",
    "            poi = harvestData(result,station)\n",
    "            compiled_df = add_rows(poi)\n",
    "    \n",
    "# I did a test with 3 and it went well and my exception catching seems to work.\n",
    "# I'm now going to run it on the full df and take a break."
   ]
  },
  {
   "cell_type": "code",
   "execution_count": 8,
   "metadata": {},
   "outputs": [
    {
     "name": "stdout",
     "output_type": "stream",
     "text": [
      "Business and Professional Services    2987\n",
      "Clothing Store                        1162\n",
      "Attorney / Law Office                 1067\n",
      "Hair Salon                             968\n",
      "Café                                   869\n",
      "Name: category, dtype: int64 \n",
      "\n",
      "Sri Lankan Restaurant    1\n",
      "Party Supply Store       1\n",
      "Petroleum Supplier       1\n",
      "Gelato Shop              1\n",
      "Rental Service           1\n",
      "Name: category, dtype: int64 \n",
      "\n",
      "52.634606,13.492751    1\n",
      "52.541985,13.4535      1\n",
      "52.500952,13.393774    1\n",
      "52.480084,13.483233    1\n",
      "52.54404,13.59604      1\n",
      "52.468993,13.478447    1\n",
      "52.471606,13.466764    1\n",
      "52.517845,13.371651    1\n",
      "52.472433,13.419843    1\n",
      "52.512978,13.574224    1\n",
      "Name: origin, dtype: int64\n"
     ]
    },
    {
     "data": {
      "text/html": [
       "<div>\n",
       "<style scoped>\n",
       "    .dataframe tbody tr th:only-of-type {\n",
       "        vertical-align: middle;\n",
       "    }\n",
       "\n",
       "    .dataframe tbody tr th {\n",
       "        vertical-align: top;\n",
       "    }\n",
       "\n",
       "    .dataframe thead th {\n",
       "        text-align: right;\n",
       "    }\n",
       "</style>\n",
       "<table border=\"1\" class=\"dataframe\">\n",
       "  <thead>\n",
       "    <tr style=\"text-align: right;\">\n",
       "      <th></th>\n",
       "      <th>name</th>\n",
       "      <th>distance_meters</th>\n",
       "      <th>category</th>\n",
       "      <th>popularity</th>\n",
       "      <th>rating</th>\n",
       "      <th>lat</th>\n",
       "      <th>long</th>\n",
       "      <th>origin</th>\n",
       "    </tr>\n",
       "  </thead>\n",
       "  <tbody>\n",
       "    <tr>\n",
       "      <th>0</th>\n",
       "      <td>Curry Wolf</td>\n",
       "      <td>29.0</td>\n",
       "      <td>Fast Food Restaurant</td>\n",
       "      <td>0.903641</td>\n",
       "      <td>7.8</td>\n",
       "      <td>52.503902</td>\n",
       "      <td>13.335662</td>\n",
       "      <td>52.504157,13.335328</td>\n",
       "    </tr>\n",
       "    <tr>\n",
       "      <th>0</th>\n",
       "      <td>Pull&amp;Bear Ber-Tauentzienstrasse</td>\n",
       "      <td>29.0</td>\n",
       "      <td>Clothing Store</td>\n",
       "      <td>0.988963</td>\n",
       "      <td>7.8</td>\n",
       "      <td>52.504021</td>\n",
       "      <td>13.335963</td>\n",
       "      <td>52.504157,13.335328</td>\n",
       "    </tr>\n",
       "    <tr>\n",
       "      <th>0</th>\n",
       "      <td>Levi Strauss Germany GmbH</td>\n",
       "      <td>19.0</td>\n",
       "      <td>Clothing Store</td>\n",
       "      <td>0.936147</td>\n",
       "      <td>6.7</td>\n",
       "      <td>52.504051</td>\n",
       "      <td>13.334821</td>\n",
       "      <td>52.504157,13.335328</td>\n",
       "    </tr>\n",
       "  </tbody>\n",
       "</table>\n",
       "</div>"
      ],
      "text/plain": [
       "                              name  distance_meters              category  \\\n",
       "0                       Curry Wolf             29.0  Fast Food Restaurant   \n",
       "0  Pull&Bear Ber-Tauentzienstrasse             29.0        Clothing Store   \n",
       "0        Levi Strauss Germany GmbH             19.0        Clothing Store   \n",
       "\n",
       "   popularity  rating        lat       long               origin  \n",
       "0    0.903641     7.8  52.503902  13.335662  52.504157,13.335328  \n",
       "0    0.988963     7.8  52.504021  13.335963  52.504157,13.335328  \n",
       "0    0.936147     6.7  52.504051  13.334821  52.504157,13.335328  "
      ]
     },
     "execution_count": 8,
     "metadata": {},
     "output_type": "execute_result"
    }
   ],
   "source": [
    "# 10 minutes later and we have a nice 46k row dataframe!\n",
    "print(compiled_df['category'].value_counts().head(5),'\\n')\n",
    "print(compiled_df['category'].value_counts().tail(5),'\\n')\n",
    "print(compiled_df['origin'].value_counts().tail(10))\n",
    "compiled_df.head(3)"
   ]
  },
  {
   "cell_type": "code",
   "execution_count": 12,
   "metadata": {},
   "outputs": [],
   "source": [
    "#compiled_df.to_csv('../data/foursquare_bikes.csv')\n",
    "# avoid that 10 min execution."
   ]
  },
  {
   "cell_type": "markdown",
   "metadata": {},
   "source": [
    "# Yelp"
   ]
  },
  {
   "cell_type": "markdown",
   "metadata": {},
   "source": [
    "Send a request to Yelp with a small radius (1000m) for all the bike stations in your city of choice. "
   ]
  },
  {
   "cell_type": "code",
   "execution_count": 42,
   "metadata": {},
   "outputs": [],
   "source": [
    "url = 'https://api.yelp.com/v3/businesses/search'\n",
    "yelp_api = os.environ[\"YELP_KEY\"]\n",
    "headers = { \n",
    "    'accept':'application/json',\n",
    "    'Authorization' : 'Bearer '+ yelp_api\n",
    "    }\n",
    "params = {\n",
    "    'latitude' : '52.504157', # long and lat have to be passed seperately for this API.\n",
    "    'longitude' : '13.335328',\n",
    "    'radius' : '100', # same radius\n",
    "    'limit' : '50' # again, 50 is the max limit\n",
    "}\n",
    "response = requests.get(url, headers=headers, params=params)\n",
    "response = response.json()"
   ]
  },
  {
   "cell_type": "markdown",
   "metadata": {},
   "source": [
    "Parse through the response to get the POI (such as restaurants, bars, etc) details you want (ratings, name, location, etc)"
   ]
  },
  {
   "cell_type": "code",
   "execution_count": 62,
   "metadata": {},
   "outputs": [],
   "source": [
    "# Same classes as before, slightly modified to work with Yelp's Json structure.\n",
    "\n",
    "class harvestDataYelp:\n",
    "    def __init__(self, _response,origin):\n",
    "        self.name = pd.Series(_response['name'],name='name')\n",
    "        self.distance = pd.Series(_response['distance'],name='distance_meters')\n",
    "        try:self.category = pd.Series(_response['categories'][0]['title'],name='category') # Here we'll grab title instead of alias as title should give us better patterns.\n",
    "        except:self.category = pd.Series(np.nan,name='category')\n",
    "        self.lat = pd.Series(_response['coordinates']['latitude'],name='lat')\n",
    "        self.long = pd.Series(_response['coordinates']['longitude'],name='long')\n",
    "        self.origin = pd.Series(origin,name='origin')\n",
    "\n",
    "        try:self.rating = pd.Series(_response['rating'],name='rating')\n",
    "        except:self.rating = pd.Series(np.nan,name='rating')\n",
    "\n",
    "\n",
    "# This will only be called if Foursquare doesn't return any nearby POIs\n",
    "class emptyStationYelp:\n",
    "    def __init__(self, _response,origin):\n",
    "        # Set everything to nan\n",
    "        self.name = pd.Series(np.nan, name='name')\n",
    "        self.distance = pd.Series(np.nan, name='distance_meters')\n",
    "        self.category = pd.Series(np.nan, name='category')\n",
    "        self.lat = pd.Series(np.nan, name='lat')\n",
    "        self.long = pd.Series(np.nan, name='long')\n",
    "        self.origin = pd.Series(origin,name='origin')\n",
    "        self.rating = pd.Series(np.nan,name='rating')\n",
    "\n",
    "def general_100m_yelp_scan(location):\n",
    "    url = 'https://api.yelp.com/v3/businesses/search'\n",
    "    ll = location.split(',') # convert location from '123,321' to ['123','321'] for our params.\n",
    "    headers = { \n",
    "        'accept':'application/json',\n",
    "        'Authorization' : 'Bearer '+ yelp_api\n",
    "    }\n",
    "    params = {\n",
    "        'latitude' : ll[0],\n",
    "        'longitude' : ll[1],\n",
    "        'radius' : '100',\n",
    "        'limit' : '50' # again, 50 is the max limit\n",
    "    }\n",
    "    response = requests.get(url,headers=headers,params=params)\n",
    "\n",
    "    return response.json()"
   ]
  },
  {
   "cell_type": "code",
   "execution_count": 67,
   "metadata": {},
   "outputs": [
    {
     "name": "stdout",
     "output_type": "stream",
     "text": [
      "Kaiser Wilhelm Memorial Church 73.32558211459008 Churches 52.5048070449392 13.3351458426792 52.504157,13.335328 4.0\n"
     ]
    }
   ],
   "source": [
    "# ugly test response and clean\n",
    "response = general_100m_yelp_scan('52.504157,13.335328')\n",
    "poi = harvestDataYelp(response['businesses'][0],'52.504157,13.335328')\n",
    "print(poi.name[0], poi.distance[0],poi.category[0],poi.lat[0],poi.long[0],poi.origin[0],poi.rating[0])\n",
    "# Works as expected"
   ]
  },
  {
   "cell_type": "markdown",
   "metadata": {},
   "source": [
    "Put your parsed results into a DataFrame"
   ]
  },
  {
   "cell_type": "code",
   "execution_count": null,
   "metadata": {},
   "outputs": [],
   "source": [
    "# Lets use the same structure as we did for Foursquare\n",
    "\n",
    "compiled_df2 = pd.DataFrame()\n",
    "\n",
    "def add_rows(poi):\n",
    "    tmp = pd.concat([\n",
    "        poi.name,\n",
    "        poi.distance,\n",
    "        poi.category,\n",
    "        poi.rating,\n",
    "        poi.lat,\n",
    "        poi.long,\n",
    "        poi.origin\n",
    "    ], axis=1)\n",
    "    main = pd.concat([compiled_df2,tmp])\n",
    "    return main\n",
    "\n",
    "# Iterate through coordinates of each bike station in berlin.\n",
    "for station in berlin_bikes.lat_long.values: # (add '[:n]' after values for sample.)\n",
    "    # Scan area for POIs\n",
    "    response = general_100m_yelp_scan(station)\n",
    "\n",
    "    # If nothing is detected. Enter a row of mostly NaN\n",
    "    if len(response['businesses']) == 0:\n",
    "        poi = emptyStationYelp(response,station)\n",
    "        compiled_df2 = add_rows(poi)\n",
    "    else:\n",
    "        # Otherwise, add each result as a row\n",
    "        for business in response['businesses']:\n",
    "            poi = harvestDataYelp(business,station)\n",
    "            compiled_df2 = add_rows(poi)"
   ]
  },
  {
   "cell_type": "code",
   "execution_count": 106,
   "metadata": {},
   "outputs": [
    {
     "data": {
      "text/html": [
       "<div>\n",
       "<style scoped>\n",
       "    .dataframe tbody tr th:only-of-type {\n",
       "        vertical-align: middle;\n",
       "    }\n",
       "\n",
       "    .dataframe tbody tr th {\n",
       "        vertical-align: top;\n",
       "    }\n",
       "\n",
       "    .dataframe thead th {\n",
       "        text-align: right;\n",
       "    }\n",
       "</style>\n",
       "<table border=\"1\" class=\"dataframe\">\n",
       "  <thead>\n",
       "    <tr style=\"text-align: right;\">\n",
       "      <th></th>\n",
       "      <th>name</th>\n",
       "      <th>distance_meters</th>\n",
       "      <th>category</th>\n",
       "      <th>rating</th>\n",
       "      <th>lat</th>\n",
       "      <th>long</th>\n",
       "      <th>origin</th>\n",
       "    </tr>\n",
       "  </thead>\n",
       "  <tbody>\n",
       "    <tr>\n",
       "      <th>0</th>\n",
       "      <td>Kaiser Wilhelm Memorial Church</td>\n",
       "      <td>73.325582</td>\n",
       "      <td>Churches</td>\n",
       "      <td>4.0</td>\n",
       "      <td>52.504807</td>\n",
       "      <td>13.335146</td>\n",
       "      <td>52.504157,13.335328</td>\n",
       "    </tr>\n",
       "    <tr>\n",
       "      <th>0</th>\n",
       "      <td>Restaurant Heising</td>\n",
       "      <td>100.350295</td>\n",
       "      <td>French</td>\n",
       "      <td>4.5</td>\n",
       "      <td>52.503220</td>\n",
       "      <td>13.334880</td>\n",
       "      <td>52.504157,13.335328</td>\n",
       "    </tr>\n",
       "    <tr>\n",
       "      <th>0</th>\n",
       "      <td>Curry Wolf</td>\n",
       "      <td>36.344645</td>\n",
       "      <td>Curry Sausage</td>\n",
       "      <td>4.0</td>\n",
       "      <td>52.503850</td>\n",
       "      <td>13.335511</td>\n",
       "      <td>52.504157,13.335328</td>\n",
       "    </tr>\n",
       "    <tr>\n",
       "      <th>0</th>\n",
       "      <td>Upper Burger Grill</td>\n",
       "      <td>107.624815</td>\n",
       "      <td>Steakhouses</td>\n",
       "      <td>4.0</td>\n",
       "      <td>52.503390</td>\n",
       "      <td>13.334360</td>\n",
       "      <td>52.504157,13.335328</td>\n",
       "    </tr>\n",
       "    <tr>\n",
       "      <th>0</th>\n",
       "      <td>Falafel Salam</td>\n",
       "      <td>118.295670</td>\n",
       "      <td>Falafel</td>\n",
       "      <td>4.0</td>\n",
       "      <td>52.503400</td>\n",
       "      <td>13.334100</td>\n",
       "      <td>52.504157,13.335328</td>\n",
       "    </tr>\n",
       "  </tbody>\n",
       "</table>\n",
       "</div>"
      ],
      "text/plain": [
       "                             name  distance_meters       category  rating  \\\n",
       "0  Kaiser Wilhelm Memorial Church        73.325582       Churches     4.0   \n",
       "0              Restaurant Heising       100.350295         French     4.5   \n",
       "0                      Curry Wolf        36.344645  Curry Sausage     4.0   \n",
       "0              Upper Burger Grill       107.624815    Steakhouses     4.0   \n",
       "0                   Falafel Salam       118.295670        Falafel     4.0   \n",
       "\n",
       "         lat       long               origin  \n",
       "0  52.504807  13.335146  52.504157,13.335328  \n",
       "0  52.503220  13.334880  52.504157,13.335328  \n",
       "0  52.503850  13.335511  52.504157,13.335328  \n",
       "0  52.503390  13.334360  52.504157,13.335328  \n",
       "0  52.503400  13.334100  52.504157,13.335328  "
      ]
     },
     "execution_count": 106,
     "metadata": {},
     "output_type": "execute_result"
    }
   ],
   "source": [
    "compiled_df2.to_csv('../data/yelp_bikes.csv')\n",
    "compiled_df2.head()"
   ]
  },
  {
   "cell_type": "markdown",
   "metadata": {},
   "source": [
    "# Comparing Results"
   ]
  },
  {
   "attachments": {},
   "cell_type": "markdown",
   "metadata": {},
   "source": [
    "### Which API provided you with more complete data? Provide an explanation. "
   ]
  },
  {
   "attachments": {},
   "cell_type": "markdown",
   "metadata": {},
   "source": [
    "Without a doubt the Foursquare API beat the yelp API in every respect.\n",
    "* Foursquare = 46,208 rows of data // Yelp = 9,720 rows of data.\n",
    "* Foursquare has 66 stations with no nearby POIs (3.65%) // Yelp has 408 (22.56%).\n",
    "* Despite returning nearly 5x the information, Foursquare created its database 30 seconds faster.\n",
    "* I like the selection of information Foursquare provides over the information Yelp provides. (This does come down to preference / application as both have information the other does not. In general I think Foursquare's is more applicable though).\n",
    "\n",
    "Two positive things about Yelp.\n",
    "* The autocomplete/general term searching functionality. I haven't experimented with this but I can think of a couple instances where this would be useful.\n",
    "* You can make a request using more types of locational info. Foursquare is restriced to lat and long or areas declared by lat and long. Yelp can have many different types of locations passed in. I prefer to use lat and long but again this has its uses.\n",
    "\n",
    "If given the choice I would use Foursquare over Yelp simply due to its ability to return so much more data."
   ]
  },
  {
   "cell_type": "markdown",
   "metadata": {},
   "source": [
    "Get the top 10 restaurants according to their rating"
   ]
  },
  {
   "cell_type": "code",
   "execution_count": 141,
   "metadata": {},
   "outputs": [
    {
     "data": {
      "text/html": [
       "<div>\n",
       "<style scoped>\n",
       "    .dataframe tbody tr th:only-of-type {\n",
       "        vertical-align: middle;\n",
       "    }\n",
       "\n",
       "    .dataframe tbody tr th {\n",
       "        vertical-align: top;\n",
       "    }\n",
       "\n",
       "    .dataframe thead th {\n",
       "        text-align: right;\n",
       "    }\n",
       "</style>\n",
       "<table border=\"1\" class=\"dataframe\">\n",
       "  <thead>\n",
       "    <tr style=\"text-align: right;\">\n",
       "      <th></th>\n",
       "      <th>name</th>\n",
       "      <th>category</th>\n",
       "      <th>rating</th>\n",
       "    </tr>\n",
       "  </thead>\n",
       "  <tbody>\n",
       "    <tr>\n",
       "      <th>0</th>\n",
       "      <td>Nonne &amp; Zwerg</td>\n",
       "      <td>Mediterranean Restaurant</td>\n",
       "      <td>9.2</td>\n",
       "    </tr>\n",
       "    <tr>\n",
       "      <th>0</th>\n",
       "      <td>Enzo Sushi Bar</td>\n",
       "      <td>Sushi Restaurant</td>\n",
       "      <td>9.2</td>\n",
       "    </tr>\n",
       "    <tr>\n",
       "      <th>0</th>\n",
       "      <td>Picoteo</td>\n",
       "      <td>Spanish Restaurant</td>\n",
       "      <td>9.1</td>\n",
       "    </tr>\n",
       "    <tr>\n",
       "      <th>0</th>\n",
       "      <td>Umami</td>\n",
       "      <td>Vietnamese Restaurant</td>\n",
       "      <td>9.1</td>\n",
       "    </tr>\n",
       "    <tr>\n",
       "      <th>0</th>\n",
       "      <td>Knödelwirtschaft SÜD</td>\n",
       "      <td>Restaurant</td>\n",
       "      <td>9.1</td>\n",
       "    </tr>\n",
       "    <tr>\n",
       "      <th>0</th>\n",
       "      <td>Rüyam Gemüse Kebab</td>\n",
       "      <td>Doner Restaurant</td>\n",
       "      <td>9.1</td>\n",
       "    </tr>\n",
       "    <tr>\n",
       "      <th>0</th>\n",
       "      <td>Banh Mi Stable</td>\n",
       "      <td>Fast Food Restaurant</td>\n",
       "      <td>9.1</td>\n",
       "    </tr>\n",
       "    <tr>\n",
       "      <th>0</th>\n",
       "      <td>Dan Thai Food</td>\n",
       "      <td>Thai Restaurant</td>\n",
       "      <td>9.1</td>\n",
       "    </tr>\n",
       "    <tr>\n",
       "      <th>0</th>\n",
       "      <td>Facil</td>\n",
       "      <td>Eastern European Restaurant</td>\n",
       "      <td>9.0</td>\n",
       "    </tr>\n",
       "    <tr>\n",
       "      <th>0</th>\n",
       "      <td>Khao Taan</td>\n",
       "      <td>Thai Restaurant</td>\n",
       "      <td>9.0</td>\n",
       "    </tr>\n",
       "  </tbody>\n",
       "</table>\n",
       "</div>"
      ],
      "text/plain": [
       "                   name                     category  rating\n",
       "0         Nonne & Zwerg     Mediterranean Restaurant     9.2\n",
       "0        Enzo Sushi Bar             Sushi Restaurant     9.2\n",
       "0               Picoteo           Spanish Restaurant     9.1\n",
       "0                 Umami        Vietnamese Restaurant     9.1\n",
       "0  Knödelwirtschaft SÜD                   Restaurant     9.1\n",
       "0    Rüyam Gemüse Kebab             Doner Restaurant     9.1\n",
       "0        Banh Mi Stable         Fast Food Restaurant     9.1\n",
       "0         Dan Thai Food              Thai Restaurant     9.1\n",
       "0                 Facil  Eastern European Restaurant     9.0\n",
       "0             Khao Taan              Thai Restaurant     9.0"
      ]
     },
     "execution_count": 141,
     "metadata": {},
     "output_type": "execute_result"
    }
   ],
   "source": [
    "top_restaurants = compiled_df[['name','category','rating']]\n",
    "# We only need these two columns.\n",
    "top_restaurants = top_restaurants.drop_duplicates()\n",
    "# Remove overlap from nearby bike stations.\n",
    "top_restaurants = top_restaurants.dropna()\n",
    "# We don't need Restaurants without reviews and keeping NaN will impair our ability to use a bool mask.\n",
    "\n",
    "top_restaurants[top_restaurants['category'].str.endswith('Restaurant')].sort_values(by='rating', ascending=False).head(10)\n",
    "# I tried more masks but kept getting the same result\n",
    "\n",
    "\n",
    "# If we run:\n",
    "# top_restaurants['category'].value_counts().head(60)\n",
    "# We see that it's very uniform for restaurants to follow the exact mask that I used above."
   ]
  }
 ],
 "metadata": {
  "kernelspec": {
   "display_name": "base",
   "language": "python",
   "name": "python3"
  },
  "language_info": {
   "codemirror_mode": {
    "name": "ipython",
    "version": 3
   },
   "file_extension": ".py",
   "mimetype": "text/x-python",
   "name": "python",
   "nbconvert_exporter": "python",
   "pygments_lexer": "ipython3",
   "version": "3.9.13"
  },
  "vscode": {
   "interpreter": {
    "hash": "8a34b3273de5bc47428473d2a098b2b644951547a78dfc045c680f0cd3ff6f5f"
   }
  }
 },
 "nbformat": 4,
 "nbformat_minor": 4
}
