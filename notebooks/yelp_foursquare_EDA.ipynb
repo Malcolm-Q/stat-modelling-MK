{
 "cells": [
  {
   "cell_type": "code",
   "execution_count": 2,
   "metadata": {},
   "outputs": [],
   "source": [
    "# imports\n",
    "import pandas as pd\n",
    "import numpy as np\n",
    "import requests\n",
    "import os"
   ]
  },
  {
   "cell_type": "markdown",
   "metadata": {},
   "source": [
    "# Foursquare"
   ]
  },
  {
   "cell_type": "markdown",
   "metadata": {},
   "source": [
    "Send a request to Foursquare with a small radius (1000m) for all the bike stations in your city of choice. "
   ]
  },
  {
   "cell_type": "code",
   "execution_count": 29,
   "metadata": {},
   "outputs": [
    {
     "name": "stdout",
     "output_type": "stream",
     "text": [
      "   bikes_available  bikes_in_use  total_bikes             lat_long\n",
      "0                4             0            4  52.504157,13.335328\n",
      "1                0             4            4   52.496986,13.29121\n",
      "2                3             2            5  52.498323,13.296157\n"
     ]
    }
   ],
   "source": [
    "# Load data on our stations from Part 1\n",
    "berlin_bikes = pd.read_csv('../data/berlin_bikes.csv')\n",
    "\n",
    "# Whoops, it exported with an extra column that just holds the index. Let's drop it.\n",
    "berlin_bikes = berlin_bikes.drop('Unnamed: 0',axis=1)\n",
    "\n",
    "# In Foursquare, lat & long params need to be passed as '<lat>,<long>'\n",
    "# Create a column of strings formatted as such so we don't have to do this nasty conversion when passing 'll' in params\n",
    "berlin_bikes['lat_long'] = berlin_bikes['lat'].astype(str) + ',' + berlin_bikes['long'].astype(str)\n",
    "\n",
    "# Drop the old redundant columns that are cluttering our simple dataframe.\n",
    "berlin_bikes = berlin_bikes.drop(['lat','long'],axis=1)\n",
    "print(berlin_bikes.head(3))\n",
    "\n",
    "\n",
    "# [ Our station data is now set up appropriately ]"
   ]
  },
  {
   "cell_type": "code",
   "execution_count": 41,
   "metadata": {},
   "outputs": [
    {
     "name": "stdout",
     "output_type": "stream",
     "text": [
      "{'results': [{'fsq_id': '528e06ab11d2a05174deff6a', 'categories': [{'id': 10024, 'name': 'Movie Theater', 'icon': {'prefix': 'https://ss3.4sqi.net/img/categories_v2/arts_entertainment/movietheater_', 'suffix': '.png'}}], 'chains': [], 'distance': 235, 'geocodes': {'main': {'latitude': 52.505882, 'longitude': 13.334317}, 'roof': {'latitude': 52.505882, 'longitude': 13.334317}}, 'link': '/v3/places/528e06ab11d2a05174deff6a', 'location': {'address': 'Hardenbergstraße 29A', 'country': 'DE', 'cross_street': '', 'formatted_address': 'Hardenbergstraße 29A, 10623 Berlin', 'locality': 'Berlin', 'postcode': '10623', 'region': 'Berlin'}, 'name': 'Zoo Palast', 'related_places': {'children': [{'fsq_id': '55de1309498ee36e5537b744', 'name': 'Zoo Loge Premium Lounge'}, {'fsq_id': '52a32e66498e76d72b69b85b', 'name': 'Zooba'}]}, 'timezone': 'Europe/Berlin'}, {'fsq_id': '5bc635e9d48ec1002cc10677', 'categories': [{'id': 13031, 'name': 'Burger Joint', 'icon': {'prefix': 'https://ss3.4sqi.net/img/categories_v2/food/burger_', 'suffix': '.png'}}], 'chains': [], 'distance': 310, 'geocodes': {'main': {'latitude': 52.505917, 'longitude': 13.331621}, 'roof': {'latitude': 52.505917, 'longitude': 13.331621}}, 'link': '/v3/places/5bc635e9d48ec1002cc10677', 'location': {'address': 'Joachimsthaler Straße 1-3 Zoom', 'country': 'DE', 'cross_street': '', 'formatted_address': 'Joachimsthaler Straße 1-3 Zoom, 10623 Berlin', 'locality': 'Berlin', 'postcode': '10623', 'region': 'Berlin'}, 'name': 'Burgermeister GmbH', 'related_places': {'parent': {'fsq_id': '5bf2b6ddb9b37b0039840f3f', 'name': 'ZOOM Berlin'}}, 'timezone': 'Europe/Berlin'}, {'fsq_id': '4b4b4584f964a520229626e3', 'categories': [{'id': 10024, 'name': 'Movie Theater', 'icon': {'prefix': 'https://ss3.4sqi.net/img/categories_v2/arts_entertainment/movietheater_', 'suffix': '.png'}}], 'chains': [], 'distance': 374, 'geocodes': {'main': {'latitude': 52.503246, 'longitude': 13.329911}, 'roof': {'latitude': 52.503246, 'longitude': 13.329911}}, 'link': '/v3/places/4b4b4584f964a520229626e3', 'location': {'address': 'Kurfürstendamm 225', 'country': 'DE', 'cross_street': 'Joachimstaler Str.', 'formatted_address': 'Kurfürstendamm 225 (Joachimstaler Str.), 10719 Berlin', 'locality': 'Berlin', 'postcode': '10719', 'region': 'Berlin'}, 'name': 'Astor Film Lounge', 'related_places': {}, 'timezone': 'Europe/Berlin'}, {'fsq_id': '5228b7737e484ee899dce79b', 'categories': [{'id': 10028, 'name': 'Art Museum', 'icon': {'prefix': 'https://ss3.4sqi.net/img/categories_v2/arts_entertainment/museum_art_', 'suffix': '.png'}}], 'chains': [], 'distance': 423, 'geocodes': {'main': {'latitude': 52.506708, 'longitude': 13.330575}, 'roof': {'latitude': 52.506708, 'longitude': 13.330575}}, 'link': '/v3/places/5228b7737e484ee899dce79b', 'location': {'address': 'Hardenbergstraße 22', 'country': 'DE', 'formatted_address': 'Hardenbergstraße 22, 10623 Berlin', 'locality': 'Berlin', 'postcode': '10623', 'region': 'Berlin'}, 'name': 'C/O Berlin', 'related_places': {'parent': {'fsq_id': '4bc5e82942419521c634031d', 'name': 'Amerika-Haus'}, 'children': [{'fsq_id': '5d162b91e2dcb400236aa27d', 'name': 'Photomaton'}]}, 'timezone': 'Europe/Berlin'}, {'fsq_id': '55745a13498e9ea79119a3a0', 'categories': [{'id': 13310, 'name': 'Modern European Restaurant', 'icon': {'prefix': 'https://ss3.4sqi.net/img/categories_v2/food/default_', 'suffix': '.png'}}], 'chains': [], 'distance': 518, 'geocodes': {'main': {'latitude': 52.503726, 'longitude': 13.327905}, 'roof': {'latitude': 52.503726, 'longitude': 13.327905}}, 'link': '/v3/places/55745a13498e9ea79119a3a0', 'location': {'address': 'Fasanenstraße 77', 'country': 'DE', 'cross_street': '', 'formatted_address': 'Fasanenstraße 77, 10623 Berlin', 'locality': 'Berlin', 'postcode': '10623', 'region': 'Berlin'}, 'name': 'Inizio', 'related_places': {}, 'timezone': 'Europe/Berlin'}, {'fsq_id': '4f9d14a4e4b07e720e28e79e', 'categories': [{'id': 16037, 'name': 'Playground', 'icon': {'prefix': 'https://ss3.4sqi.net/img/categories_v2/parks_outdoors/playground_', 'suffix': '.png'}}], 'chains': [], 'distance': 595, 'geocodes': {'main': {'latitude': 52.506937, 'longitude': 13.334287}, 'roof': {'latitude': 52.506937, 'longitude': 13.334287}}, 'link': '/v3/places/4f9d14a4e4b07e720e28e79e', 'location': {'address': 'Hardenbergplatz 8', 'country': 'DE', 'cross_street': '', 'formatted_address': 'Hardenbergplatz 8, 10787 Berlin', 'locality': 'Berlin', 'postcode': '10787', 'region': 'Berlin'}, 'name': 'Spielplatz im Zoo Berlin', 'related_places': {}, 'timezone': 'Europe/Berlin'}, {'fsq_id': '4d481aa4febd8eec4f651282', 'categories': [{'id': 11090, 'name': 'Interior Designer', 'icon': {'prefix': 'https://ss3.4sqi.net/img/categories_v2/shops/realestate_', 'suffix': '.png'}}], 'chains': [], 'distance': 724, 'geocodes': {'main': {'latitude': 52.50107, 'longitude': 13.325625}, 'roof': {'latitude': 52.50107, 'longitude': 13.325625}}, 'link': '/v3/places/4d481aa4febd8eec4f651282', 'location': {'address': 'Uhlandstraße 170a', 'country': 'DE', 'formatted_address': 'Uhlandstraße 170a, 10719 Berlin', 'locality': 'Berlin', 'postcode': '10719', 'region': 'Berlin'}, 'name': 'Berlinrodeo Interior Concepts', 'related_places': {}, 'timezone': 'Europe/Berlin'}, {'fsq_id': '588cc52851666a083e4cb174', 'categories': [{'id': 13034, 'name': 'Café', 'icon': {'prefix': 'https://ss3.4sqi.net/img/categories_v2/food/cafe_', 'suffix': '.png'}}, {'id': 13047, 'name': 'Pastry Shop', 'icon': {'prefix': 'https://ss3.4sqi.net/img/categories_v2/food/dessert_', 'suffix': '.png'}}, {'id': 13065, 'name': 'Restaurant', 'icon': {'prefix': 'https://ss3.4sqi.net/img/categories_v2/food/default_', 'suffix': '.png'}}], 'chains': [], 'distance': 824, 'geocodes': {'main': {'latitude': 52.497822, 'longitude': 13.341518}, 'roof': {'latitude': 52.497822, 'longitude': 13.341518}}, 'link': '/v3/places/588cc52851666a083e4cb174', 'location': {'address': 'Welserstraße 13-15', 'country': 'DE', 'cross_street': 'Geisbergstr.', 'formatted_address': 'Welserstraße 13-15 (Geisbergstr.), 10777 Berlin', 'locality': 'Berlin', 'postcode': '10777', 'region': 'Berlin'}, 'name': 'Café Komine', 'related_places': {}, 'timezone': 'Europe/Berlin'}, {'fsq_id': '4adcda8ef964a520954a21e3', 'categories': [{'id': 17018, 'name': 'Bookstore', 'icon': {'prefix': 'https://ss3.4sqi.net/img/categories_v2/shops/bookstore_', 'suffix': '.png'}}], 'chains': [], 'distance': 910, 'geocodes': {'main': {'latitude': 52.50486, 'longitude': 13.321809}, 'roof': {'latitude': 52.50486, 'longitude': 13.321809}}, 'link': '/v3/places/4adcda8ef964a520954a21e3', 'location': {'address': 'Stadtbahnbogen 593', 'country': 'DE', 'cross_street': 'Savignyplatz', 'formatted_address': 'Stadtbahnbogen 593 (Savignyplatz), 10623 Berlin', 'locality': 'Berlin', 'postcode': '10623', 'region': 'Berlin'}, 'name': 'Bücherbogen', 'related_places': {}, 'timezone': 'Europe/Berlin'}, {'fsq_id': '4b1673f7f964a52043b923e3', 'categories': [{'id': 16041, 'name': 'Plaza', 'icon': {'prefix': 'https://ss3.4sqi.net/img/categories_v2/parks_outdoors/plaza_', 'suffix': '.png'}}], 'chains': [], 'distance': 1031, 'geocodes': {'main': {'latitude': 52.495772, 'longitude': 13.341728}}, 'link': '/v3/places/4b1673f7f964a52043b923e3', 'location': {'address': 'Motzstraße 47', 'country': 'DE', 'cross_street': 'Winterfeldtstr.', 'formatted_address': 'Motzstraße 47 (Winterfeldtstr.), 10777 Berlin', 'locality': 'Berlin', 'postcode': '10777', 'region': 'Berlin'}, 'name': 'Viktoria-Luise-Platz', 'related_places': {'children': [{'fsq_id': '4db194bf43a1bea42bcea5b8', 'name': 'Sandkasten am Viktoria-Luise-Platz'}]}, 'timezone': 'Europe/Berlin'}], 'context': {'geo_bounds': {'circle': {'center': {'latitude': 52.504157, 'longitude': 13.335328}, 'radius': 22000}}}}\n",
      "{'results': [{'fsq_id': '4adcda8af964a520bb4921e3', 'categories': [{'id': 10039, 'name': 'Music Venue', 'icon': {'prefix': 'https://ss3.4sqi.net/img/categories_v2/arts_entertainment/musicvenue_', 'suffix': '.png'}}, {'id': 10043, 'name': 'Theater', 'icon': {'prefix': 'https://ss3.4sqi.net/img/categories_v2/arts_entertainment/performingarts_theater_', 'suffix': '.png'}}], 'chains': [], 'distance': 776, 'geocodes': {'main': {'latitude': 52.498825, 'longitude': 13.302285}, 'roof': {'latitude': 52.498825, 'longitude': 13.302285}}, 'link': '/v3/places/4adcda8af964a520bb4921e3', 'location': {'address': 'Kurfürstendamm 153', 'country': 'DE', 'cross_street': '', 'formatted_address': 'Kurfürstendamm 153, 10709 Berlin', 'locality': 'Berlin', 'postcode': '10709', 'region': 'Berlin'}, 'name': 'Schaubühne am Lehniner Platz', 'related_places': {'children': []}, 'timezone': 'Europe/Berlin'}, {'fsq_id': '4f74d4dee4b00a080e4e3908', 'categories': [{'id': 16032, 'name': 'Park', 'icon': {'prefix': 'https://ss3.4sqi.net/img/categories_v2/parks_outdoors/park_', 'suffix': '.png'}}], 'chains': [], 'distance': 962, 'geocodes': {'main': {'latitude': 52.506374, 'longitude': 13.288491}, 'roof': {'latitude': 52.506374, 'longitude': 13.288491}}, 'link': '/v3/places/4f74d4dee4b00a080e4e3908', 'location': {'country': 'DE', 'cross_street': 'Herbartstr.', 'formatted_address': 'Herbartstr., 14057 Berlin', 'locality': 'Berlin', 'postcode': '14057', 'region': 'Berlin'}, 'name': 'Lietzenseepark', 'related_places': {'children': [{'fsq_id': '4d84879b40a7a35d3a920cbe', 'name': 'Großer Spielplatz am Lietzensee'}, {'fsq_id': '4b7d1410f964a520fead2fe3', 'name': 'Lietzensee'}, {'fsq_id': '4bc99754937ca593af00a692', 'name': 'Bootshaus Stella am Lietzensee'}]}, 'timezone': 'Europe/Berlin'}, {'fsq_id': '5662b4d1498e22046910eb23', 'categories': [{'id': 17000, 'name': 'Retail', 'icon': {'prefix': 'https://ss3.4sqi.net/img/categories_v2/shops/default_', 'suffix': '.png'}}], 'chains': [], 'distance': 1345, 'geocodes': {'main': {'latitude': 52.503895, 'longitude': 13.307795}, 'roof': {'latitude': 52.503895, 'longitude': 13.307795}}, 'link': '/v3/places/5662b4d1498e22046910eb23', 'location': {'address': 'Dunckerstraße 9 AND Wilmersdorfer Straße 102/103', 'country': 'DE', 'cross_street': '', 'formatted_address': 'Dunckerstraße 9 AND Wilmersdorfer Straße 102/103, 10629 Berlin', 'locality': 'Berlin', 'postcode': '10629', 'region': 'Berlin'}, 'name': 'Goldhahn & Sampson', 'related_places': {}, 'timezone': 'Europe/Berlin'}, {'fsq_id': '586679cc45c3ed1e7d4c5723', 'categories': [{'id': 13002, 'name': 'Bakery', 'icon': {'prefix': 'https://ss3.4sqi.net/img/categories_v2/food/bakery_', 'suffix': '.png'}}, {'id': 13065, 'name': 'Restaurant', 'icon': {'prefix': 'https://ss3.4sqi.net/img/categories_v2/food/default_', 'suffix': '.png'}}], 'chains': [], 'distance': 1454, 'geocodes': {'main': {'latitude': 52.528057, 'longitude': 13.407331}, 'roof': {'latitude': 52.528057, 'longitude': 13.407331}}, 'link': '/v3/places/586679cc45c3ed1e7d4c5723', 'location': {'address': 'Konstanzer Straße 1 Olivaer Platz', 'country': 'DE', 'cross_street': 'Konstanzer Str.', 'formatted_address': 'Konstanzer Straße 1 Olivaer Platz (Konstanzer Str.), 10707 Berlin', 'locality': 'Berlin', 'postcode': '10707', 'region': 'Berlin'}, 'name': 'Zeit für Brot', 'related_places': {}, 'timezone': 'Europe/Berlin'}, {'fsq_id': '4c07aad90ed3c928b0d6797d', 'categories': [{'id': 13352, 'name': 'Thai Restaurant', 'icon': {'prefix': 'https://ss3.4sqi.net/img/categories_v2/food/thai_', 'suffix': '.png'}}, {'id': 14013, 'name': 'Street Food Gathering', 'icon': {'prefix': 'https://ss3.4sqi.net/img/categories_v2/food/streetfood_', 'suffix': '.png'}}], 'chains': [], 'distance': 1473, 'geocodes': {'main': {'latitude': 52.49029, 'longitude': 13.314807}, 'roof': {'latitude': 52.49029, 'longitude': 13.314807}}, 'link': '/v3/places/4c07aad90ed3c928b0d6797d', 'location': {'country': 'DE', 'cross_street': 'Württembergische Str.', 'formatted_address': 'Württembergische Str., 10707 Berlin', 'locality': 'Berlin', 'postcode': '10707', 'region': 'Berlin'}, 'name': 'Thaiwiese im Preußenpark', 'related_places': {'parent': {'fsq_id': '4b3b66b2f964a520577325e3', 'name': 'Preußenpark'}}, 'timezone': 'Europe/Berlin'}, {'fsq_id': '56b8e7b6498e53579eaf155c', 'categories': [{'id': 13002, 'name': 'Bakery', 'icon': {'prefix': 'https://ss3.4sqi.net/img/categories_v2/food/bakery_', 'suffix': '.png'}}, {'id': 13065, 'name': 'Restaurant', 'icon': {'prefix': 'https://ss3.4sqi.net/img/categories_v2/food/default_', 'suffix': '.png'}}], 'chains': [], 'distance': 1690, 'geocodes': {'main': {'latitude': 52.503832, 'longitude': 13.313291}, 'roof': {'latitude': 52.503832, 'longitude': 13.313291}}, 'link': '/v3/places/56b8e7b6498e53579eaf155c', 'location': {'address': 'Leibnizstraße 45', 'country': 'DE', 'cross_street': '', 'formatted_address': 'Leibnizstraße 45, Berlin', 'locality': 'Berlin', 'region': 'Berlin'}, 'name': 'Kame', 'related_places': {}, 'timezone': 'Europe/Berlin'}, {'fsq_id': '4adcda8ef964a520b24a21e3', 'categories': [{'id': 17065, 'name': \"Farmers' Market\", 'icon': {'prefix': 'https://ss3.4sqi.net/img/categories_v2/shops/food_farmersmarket_', 'suffix': '.png'}}, {'id': 17069, 'name': 'Grocery Store / Supermarket', 'icon': {'prefix': 'https://ss3.4sqi.net/img/categories_v2/shops/food_grocery_', 'suffix': '.png'}}], 'chains': [], 'distance': 1871, 'geocodes': {'main': {'latitude': 52.508392, 'longitude': 13.310554}, 'roof': {'latitude': 52.508392, 'longitude': 13.310554}}, 'link': '/v3/places/4adcda8ef964a520b24a21e3', 'location': {'country': 'DE', 'cross_street': 'Weimarer Str.', 'formatted_address': 'Weimarer Str., 10627 Berlin', 'locality': 'Berlin', 'postcode': '10627', 'region': 'Berlin'}, 'name': 'Wochenmarkt Karl-August-Platz', 'related_places': {'children': []}, 'timezone': 'Europe/Berlin'}, {'fsq_id': '4bd6bba1cfa7b713bff327da', 'categories': [{'id': 10042, 'name': 'Opera House', 'icon': {'prefix': 'https://ss3.4sqi.net/img/categories_v2/arts_entertainment/performingarts_operahouse_', 'suffix': '.png'}}, {'id': 10043, 'name': 'Theater', 'icon': {'prefix': 'https://ss3.4sqi.net/img/categories_v2/arts_entertainment/performingarts_theater_', 'suffix': '.png'}}, {'id': 13165, 'name': 'German Restaurant', 'icon': {'prefix': 'https://ss3.4sqi.net/img/categories_v2/food/german_', 'suffix': '.png'}}], 'chains': [], 'distance': 2039, 'geocodes': {'main': {'latitude': 52.511995, 'longitude': 13.308617}, 'roof': {'latitude': 52.511995, 'longitude': 13.308617}}, 'link': '/v3/places/4bd6bba1cfa7b713bff327da', 'location': {'address': 'Bismarckstraße 35', 'country': 'DE', 'cross_street': 'Richard-Wagner-Str.', 'formatted_address': 'Bismarckstraße 35 (Richard-Wagner-Str.), 10627 Berlin', 'locality': 'Berlin', 'postcode': '10627', 'region': 'Berlin'}, 'name': 'Deutsche Oper Berlin', 'related_places': {'children': []}, 'timezone': 'Europe/Berlin'}, {'fsq_id': '4c519c1dcad99c74e32430c3', 'categories': [{'id': 13099, 'name': 'Chinese Restaurant', 'icon': {'prefix': 'https://ss3.4sqi.net/img/categories_v2/food/asian_', 'suffix': '.png'}}, {'id': 13145, 'name': 'Fast Food Restaurant', 'icon': {'prefix': 'https://ss3.4sqi.net/img/categories_v2/food/fastfood_', 'suffix': '.png'}}, {'id': 13315, 'name': 'Noodle Restaurant', 'icon': {'prefix': 'https://ss3.4sqi.net/img/categories_v2/food/ramen_', 'suffix': '.png'}}], 'chains': [], 'distance': 1996, 'geocodes': {'main': {'latitude': 52.506304, 'longitude': 13.316673}, 'roof': {'latitude': 52.506304, 'longitude': 13.316673}}, 'link': '/v3/places/4c519c1dcad99c74e32430c3', 'location': {'address': 'Kantstraße 33', 'country': 'DE', 'formatted_address': 'Kantstraße 33, 10625 Berlin', 'locality': 'Berlin', 'postcode': '10625', 'region': 'Berlin'}, 'name': 'Lon-Men’s Noodle House', 'related_places': {}, 'timezone': 'Europe/Berlin'}, {'fsq_id': '4adcda8ef964a520954a21e3', 'categories': [{'id': 17018, 'name': 'Bookstore', 'icon': {'prefix': 'https://ss3.4sqi.net/img/categories_v2/shops/bookstore_', 'suffix': '.png'}}], 'chains': [], 'distance': 2267, 'geocodes': {'main': {'latitude': 52.50486, 'longitude': 13.321809}, 'roof': {'latitude': 52.50486, 'longitude': 13.321809}}, 'link': '/v3/places/4adcda8ef964a520954a21e3', 'location': {'address': 'Stadtbahnbogen 593', 'country': 'DE', 'cross_street': 'Savignyplatz', 'formatted_address': 'Stadtbahnbogen 593 (Savignyplatz), 10623 Berlin', 'locality': 'Berlin', 'postcode': '10623', 'region': 'Berlin'}, 'name': 'Bücherbogen', 'related_places': {}, 'timezone': 'Europe/Berlin'}], 'context': {'geo_bounds': {'circle': {'center': {'latitude': 52.496986, 'longitude': 13.29121}, 'radius': 22000}}}}\n",
      "{'results': [{'fsq_id': '4adcda8af964a520bb4921e3', 'categories': [{'id': 10039, 'name': 'Music Venue', 'icon': {'prefix': 'https://ss3.4sqi.net/img/categories_v2/arts_entertainment/musicvenue_', 'suffix': '.png'}}, {'id': 10043, 'name': 'Theater', 'icon': {'prefix': 'https://ss3.4sqi.net/img/categories_v2/arts_entertainment/performingarts_theater_', 'suffix': '.png'}}], 'chains': [], 'distance': 418, 'geocodes': {'main': {'latitude': 52.498825, 'longitude': 13.302285}, 'roof': {'latitude': 52.498825, 'longitude': 13.302285}}, 'link': '/v3/places/4adcda8af964a520bb4921e3', 'location': {'address': 'Kurfürstendamm 153', 'country': 'DE', 'cross_street': '', 'formatted_address': 'Kurfürstendamm 153, 10709 Berlin', 'locality': 'Berlin', 'postcode': '10709', 'region': 'Berlin'}, 'name': 'Schaubühne am Lehniner Platz', 'related_places': {'children': []}, 'timezone': 'Europe/Berlin'}, {'fsq_id': '5662b4d1498e22046910eb23', 'categories': [{'id': 17000, 'name': 'Retail', 'icon': {'prefix': 'https://ss3.4sqi.net/img/categories_v2/shops/default_', 'suffix': '.png'}}], 'chains': [], 'distance': 988, 'geocodes': {'main': {'latitude': 52.503895, 'longitude': 13.307795}, 'roof': {'latitude': 52.503895, 'longitude': 13.307795}}, 'link': '/v3/places/5662b4d1498e22046910eb23', 'location': {'address': 'Dunckerstraße 9 AND Wilmersdorfer Straße 102/103', 'country': 'DE', 'cross_street': '', 'formatted_address': 'Dunckerstraße 9 AND Wilmersdorfer Straße 102/103, 10629 Berlin', 'locality': 'Berlin', 'postcode': '10629', 'region': 'Berlin'}, 'name': 'Goldhahn & Sampson', 'related_places': {}, 'timezone': 'Europe/Berlin'}, {'fsq_id': '4f74d4dee4b00a080e4e3908', 'categories': [{'id': 16032, 'name': 'Park', 'icon': {'prefix': 'https://ss3.4sqi.net/img/categories_v2/parks_outdoors/park_', 'suffix': '.png'}}], 'chains': [], 'distance': 997, 'geocodes': {'main': {'latitude': 52.506374, 'longitude': 13.288491}, 'roof': {'latitude': 52.506374, 'longitude': 13.288491}}, 'link': '/v3/places/4f74d4dee4b00a080e4e3908', 'location': {'country': 'DE', 'cross_street': 'Herbartstr.', 'formatted_address': 'Herbartstr., 14057 Berlin', 'locality': 'Berlin', 'postcode': '14057', 'region': 'Berlin'}, 'name': 'Lietzenseepark', 'related_places': {'children': [{'fsq_id': '4d84879b40a7a35d3a920cbe', 'name': 'Großer Spielplatz am Lietzensee'}, {'fsq_id': '4b7d1410f964a520fead2fe3', 'name': 'Lietzensee'}, {'fsq_id': '4bc99754937ca593af00a692', 'name': 'Bootshaus Stella am Lietzensee'}]}, 'timezone': 'Europe/Berlin'}, {'fsq_id': '586679cc45c3ed1e7d4c5723', 'categories': [{'id': 13002, 'name': 'Bakery', 'icon': {'prefix': 'https://ss3.4sqi.net/img/categories_v2/food/bakery_', 'suffix': '.png'}}, {'id': 13065, 'name': 'Restaurant', 'icon': {'prefix': 'https://ss3.4sqi.net/img/categories_v2/food/default_', 'suffix': '.png'}}], 'chains': [], 'distance': 1104, 'geocodes': {'main': {'latitude': 52.528057, 'longitude': 13.407331}, 'roof': {'latitude': 52.528057, 'longitude': 13.407331}}, 'link': '/v3/places/586679cc45c3ed1e7d4c5723', 'location': {'address': 'Konstanzer Straße 1 Olivaer Platz', 'country': 'DE', 'cross_street': 'Konstanzer Str.', 'formatted_address': 'Konstanzer Straße 1 Olivaer Platz (Konstanzer Str.), 10707 Berlin', 'locality': 'Berlin', 'postcode': '10707', 'region': 'Berlin'}, 'name': 'Zeit für Brot', 'related_places': {}, 'timezone': 'Europe/Berlin'}, {'fsq_id': '4c07aad90ed3c928b0d6797d', 'categories': [{'id': 13352, 'name': 'Thai Restaurant', 'icon': {'prefix': 'https://ss3.4sqi.net/img/categories_v2/food/thai_', 'suffix': '.png'}}, {'id': 14013, 'name': 'Street Food Gathering', 'icon': {'prefix': 'https://ss3.4sqi.net/img/categories_v2/food/streetfood_', 'suffix': '.png'}}], 'chains': [], 'distance': 1218, 'geocodes': {'main': {'latitude': 52.49029, 'longitude': 13.314807}, 'roof': {'latitude': 52.49029, 'longitude': 13.314807}}, 'link': '/v3/places/4c07aad90ed3c928b0d6797d', 'location': {'country': 'DE', 'cross_street': 'Württembergische Str.', 'formatted_address': 'Württembergische Str., 10707 Berlin', 'locality': 'Berlin', 'postcode': '10707', 'region': 'Berlin'}, 'name': 'Thaiwiese im Preußenpark', 'related_places': {'parent': {'fsq_id': '4b3b66b2f964a520577325e3', 'name': 'Preußenpark'}}, 'timezone': 'Europe/Berlin'}, {'fsq_id': '56b8e7b6498e53579eaf155c', 'categories': [{'id': 13002, 'name': 'Bakery', 'icon': {'prefix': 'https://ss3.4sqi.net/img/categories_v2/food/bakery_', 'suffix': '.png'}}, {'id': 13065, 'name': 'Restaurant', 'icon': {'prefix': 'https://ss3.4sqi.net/img/categories_v2/food/default_', 'suffix': '.png'}}], 'chains': [], 'distance': 1324, 'geocodes': {'main': {'latitude': 52.503832, 'longitude': 13.313291}, 'roof': {'latitude': 52.503832, 'longitude': 13.313291}}, 'link': '/v3/places/56b8e7b6498e53579eaf155c', 'location': {'address': 'Leibnizstraße 45', 'country': 'DE', 'cross_street': '', 'formatted_address': 'Leibnizstraße 45, Berlin', 'locality': 'Berlin', 'region': 'Berlin'}, 'name': 'Kame', 'related_places': {}, 'timezone': 'Europe/Berlin'}, {'fsq_id': '4adcda8ef964a520b24a21e3', 'categories': [{'id': 17065, 'name': \"Farmers' Market\", 'icon': {'prefix': 'https://ss3.4sqi.net/img/categories_v2/shops/food_farmersmarket_', 'suffix': '.png'}}, {'id': 17069, 'name': 'Grocery Store / Supermarket', 'icon': {'prefix': 'https://ss3.4sqi.net/img/categories_v2/shops/food_grocery_', 'suffix': '.png'}}], 'chains': [], 'distance': 1531, 'geocodes': {'main': {'latitude': 52.508392, 'longitude': 13.310554}, 'roof': {'latitude': 52.508392, 'longitude': 13.310554}}, 'link': '/v3/places/4adcda8ef964a520b24a21e3', 'location': {'country': 'DE', 'cross_street': 'Weimarer Str.', 'formatted_address': 'Weimarer Str., 10627 Berlin', 'locality': 'Berlin', 'postcode': '10627', 'region': 'Berlin'}, 'name': 'Wochenmarkt Karl-August-Platz', 'related_places': {'children': []}, 'timezone': 'Europe/Berlin'}, {'fsq_id': '4c519c1dcad99c74e32430c3', 'categories': [{'id': 13099, 'name': 'Chinese Restaurant', 'icon': {'prefix': 'https://ss3.4sqi.net/img/categories_v2/food/asian_', 'suffix': '.png'}}, {'id': 13145, 'name': 'Fast Food Restaurant', 'icon': {'prefix': 'https://ss3.4sqi.net/img/categories_v2/food/fastfood_', 'suffix': '.png'}}, {'id': 13315, 'name': 'Noodle Restaurant', 'icon': {'prefix': 'https://ss3.4sqi.net/img/categories_v2/food/ramen_', 'suffix': '.png'}}], 'chains': [], 'distance': 1633, 'geocodes': {'main': {'latitude': 52.506304, 'longitude': 13.316673}, 'roof': {'latitude': 52.506304, 'longitude': 13.316673}}, 'link': '/v3/places/4c519c1dcad99c74e32430c3', 'location': {'address': 'Kantstraße 33', 'country': 'DE', 'formatted_address': 'Kantstraße 33, 10625 Berlin', 'locality': 'Berlin', 'postcode': '10625', 'region': 'Berlin'}, 'name': 'Lon-Men’s Noodle House', 'related_places': {}, 'timezone': 'Europe/Berlin'}, {'fsq_id': '4bd6bba1cfa7b713bff327da', 'categories': [{'id': 10042, 'name': 'Opera House', 'icon': {'prefix': 'https://ss3.4sqi.net/img/categories_v2/arts_entertainment/performingarts_operahouse_', 'suffix': '.png'}}, {'id': 10043, 'name': 'Theater', 'icon': {'prefix': 'https://ss3.4sqi.net/img/categories_v2/arts_entertainment/performingarts_theater_', 'suffix': '.png'}}, {'id': 13165, 'name': 'German Restaurant', 'icon': {'prefix': 'https://ss3.4sqi.net/img/categories_v2/food/german_', 'suffix': '.png'}}], 'chains': [], 'distance': 1737, 'geocodes': {'main': {'latitude': 52.511995, 'longitude': 13.308617}, 'roof': {'latitude': 52.511995, 'longitude': 13.308617}}, 'link': '/v3/places/4bd6bba1cfa7b713bff327da', 'location': {'address': 'Bismarckstraße 35', 'country': 'DE', 'cross_street': 'Richard-Wagner-Str.', 'formatted_address': 'Bismarckstraße 35 (Richard-Wagner-Str.), 10627 Berlin', 'locality': 'Berlin', 'postcode': '10627', 'region': 'Berlin'}, 'name': 'Deutsche Oper Berlin', 'related_places': {'children': []}, 'timezone': 'Europe/Berlin'}, {'fsq_id': '4adcda8ef964a520954a21e3', 'categories': [{'id': 17018, 'name': 'Bookstore', 'icon': {'prefix': 'https://ss3.4sqi.net/img/categories_v2/shops/bookstore_', 'suffix': '.png'}}], 'chains': [], 'distance': 1900, 'geocodes': {'main': {'latitude': 52.50486, 'longitude': 13.321809}, 'roof': {'latitude': 52.50486, 'longitude': 13.321809}}, 'link': '/v3/places/4adcda8ef964a520954a21e3', 'location': {'address': 'Stadtbahnbogen 593', 'country': 'DE', 'cross_street': 'Savignyplatz', 'formatted_address': 'Stadtbahnbogen 593 (Savignyplatz), 10623 Berlin', 'locality': 'Berlin', 'postcode': '10623', 'region': 'Berlin'}, 'name': 'Bücherbogen', 'related_places': {}, 'timezone': 'Europe/Berlin'}], 'context': {'geo_bounds': {'circle': {'center': {'latitude': 52.498323, 'longitude': 13.296157}, 'radius': 22000}}}}\n"
     ]
    }
   ],
   "source": [
    "# Set out API key for Foursquare\n",
    "api_key = os.environ[\"FOURSQUARE_API_KEY\"]\n",
    "\n",
    "# Set Foursquare url\n",
    "url = 'https://api.foursquare.com/v3/places/search'\n",
    "\n",
    "# Function that sends a request with each passed location\n",
    "def general_1km_scan(location):\n",
    "    # Request .Json response and attatch our key.\n",
    "    headers = {\n",
    "        'accept': 'application/json',\n",
    "        'Authorization': api_key\n",
    "    }\n",
    "    # only needed parameter is lat and long\n",
    "    parameters = {\n",
    "        'll': location\n",
    "    }\n",
    "\n",
    "    response = requests.get(url,headers=headers,params=parameters)\n",
    "\n",
    "    return response.json()\n",
    "\n",
    "\n",
    "# [ This for loop calls the above function for every station in city ]\n",
    "'''\n",
    "for station in berlin_bikes['lat_long'].values:\n",
    "    print(general_1km_scan(station))\n",
    "'''\n",
    "# There are 1808 stations in Berlin so I'm going to run a variation of the loop that takes the first 3\n",
    "\n",
    "\n",
    "for station in berlin_bikes['lat_long'][:3].values:\n",
    "    print(general_1km_scan(station))\n",
    "# That's a ton of data"
   ]
  },
  {
   "cell_type": "markdown",
   "metadata": {},
   "source": [
    "Parse through the response to get the POI (such as restaurants, bars, etc) details you want (ratings, name, location, etc)"
   ]
  },
  {
   "cell_type": "code",
   "execution_count": 45,
   "metadata": {},
   "outputs": [
    {
     "data": {
      "text/plain": [
       "{'results': [{'categories': [{'id': 10024,\n",
       "     'name': 'Movie Theater',\n",
       "     'icon': {'prefix': 'https://ss3.4sqi.net/img/categories_v2/arts_entertainment/movietheater_',\n",
       "      'suffix': '.png'}}],\n",
       "   'distance': 235,\n",
       "   'name': 'Zoo Palast'},\n",
       "  {'categories': [{'id': 13031,\n",
       "     'name': 'Burger Joint',\n",
       "     'icon': {'prefix': 'https://ss3.4sqi.net/img/categories_v2/food/burger_',\n",
       "      'suffix': '.png'}}],\n",
       "   'distance': 310,\n",
       "   'name': 'Burgermeister GmbH'},\n",
       "  {'categories': [{'id': 10024,\n",
       "     'name': 'Movie Theater',\n",
       "     'icon': {'prefix': 'https://ss3.4sqi.net/img/categories_v2/arts_entertainment/movietheater_',\n",
       "      'suffix': '.png'}}],\n",
       "   'distance': 374,\n",
       "   'name': 'Astor Film Lounge'},\n",
       "  {'categories': [{'id': 10028,\n",
       "     'name': 'Art Museum',\n",
       "     'icon': {'prefix': 'https://ss3.4sqi.net/img/categories_v2/arts_entertainment/museum_art_',\n",
       "      'suffix': '.png'}}],\n",
       "   'distance': 423,\n",
       "   'name': 'C/O Berlin'},\n",
       "  {'categories': [{'id': 13310,\n",
       "     'name': 'Modern European Restaurant',\n",
       "     'icon': {'prefix': 'https://ss3.4sqi.net/img/categories_v2/food/default_',\n",
       "      'suffix': '.png'}}],\n",
       "   'distance': 518,\n",
       "   'name': 'Inizio'},\n",
       "  {'categories': [{'id': 16037,\n",
       "     'name': 'Playground',\n",
       "     'icon': {'prefix': 'https://ss3.4sqi.net/img/categories_v2/parks_outdoors/playground_',\n",
       "      'suffix': '.png'}}],\n",
       "   'distance': 595,\n",
       "   'name': 'Spielplatz im Zoo Berlin'},\n",
       "  {'categories': [{'id': 11090,\n",
       "     'name': 'Interior Designer',\n",
       "     'icon': {'prefix': 'https://ss3.4sqi.net/img/categories_v2/shops/realestate_',\n",
       "      'suffix': '.png'}}],\n",
       "   'distance': 724,\n",
       "   'name': 'Berlinrodeo Interior Concepts'},\n",
       "  {'categories': [{'id': 13034,\n",
       "     'name': 'Café',\n",
       "     'icon': {'prefix': 'https://ss3.4sqi.net/img/categories_v2/food/cafe_',\n",
       "      'suffix': '.png'}},\n",
       "    {'id': 13047,\n",
       "     'name': 'Pastry Shop',\n",
       "     'icon': {'prefix': 'https://ss3.4sqi.net/img/categories_v2/food/dessert_',\n",
       "      'suffix': '.png'}},\n",
       "    {'id': 13065,\n",
       "     'name': 'Restaurant',\n",
       "     'icon': {'prefix': 'https://ss3.4sqi.net/img/categories_v2/food/default_',\n",
       "      'suffix': '.png'}}],\n",
       "   'distance': 824,\n",
       "   'name': 'Café Komine'},\n",
       "  {'categories': [{'id': 17018,\n",
       "     'name': 'Bookstore',\n",
       "     'icon': {'prefix': 'https://ss3.4sqi.net/img/categories_v2/shops/bookstore_',\n",
       "      'suffix': '.png'}}],\n",
       "   'distance': 910,\n",
       "   'name': 'Bücherbogen'},\n",
       "  {'categories': [{'id': 16041,\n",
       "     'name': 'Plaza',\n",
       "     'icon': {'prefix': 'https://ss3.4sqi.net/img/categories_v2/parks_outdoors/plaza_',\n",
       "      'suffix': '.png'}}],\n",
       "   'distance': 1031,\n",
       "   'name': 'Viktoria-Luise-Platz'}],\n",
       " 'context': {'geo_bounds': {'circle': {'center': {'latitude': 52.504157,\n",
       "     'longitude': 13.335328},\n",
       "    'radius': 22000}}}}"
      ]
     },
     "execution_count": 45,
     "metadata": {},
     "output_type": "execute_result"
    }
   ],
   "source": [
    "# Trim the fat on this response by using the fields parameter\n",
    "def general_1km_scan(location):\n",
    "    headers = {\n",
    "        'accept': 'application/json',\n",
    "        'Authorization': api_key\n",
    "    }\n",
    "    # Add 'fields' to parameters wtih what we want returned.\n",
    "    parameters = {\n",
    "        'll': location,\n",
    "        'fields' : 'name,distance,categories'\n",
    "    }\n",
    "\n",
    "    response = requests.get(url,headers=headers,params=parameters)\n",
    "\n",
    "    return response.json()\n",
    "general_1km_scan(berlin_bikes['lat_long'][0])"
   ]
  },
  {
   "cell_type": "markdown",
   "metadata": {},
   "source": [
    "Put your parsed results into a DataFrame"
   ]
  },
  {
   "cell_type": "code",
   "execution_count": null,
   "metadata": {},
   "outputs": [],
   "source": []
  },
  {
   "cell_type": "markdown",
   "metadata": {},
   "source": [
    "# Yelp"
   ]
  },
  {
   "cell_type": "markdown",
   "metadata": {},
   "source": [
    "Send a request to Yelp with a small radius (1000m) for all the bike stations in your city of choice. "
   ]
  },
  {
   "cell_type": "code",
   "execution_count": null,
   "metadata": {},
   "outputs": [],
   "source": []
  },
  {
   "cell_type": "markdown",
   "metadata": {},
   "source": [
    "Parse through the response to get the POI (such as restaurants, bars, etc) details you want (ratings, name, location, etc)"
   ]
  },
  {
   "cell_type": "code",
   "execution_count": null,
   "metadata": {},
   "outputs": [],
   "source": []
  },
  {
   "cell_type": "markdown",
   "metadata": {},
   "source": [
    "Put your parsed results into a DataFrame"
   ]
  },
  {
   "cell_type": "markdown",
   "metadata": {},
   "source": []
  },
  {
   "cell_type": "markdown",
   "metadata": {},
   "source": [
    "# Comparing Results"
   ]
  },
  {
   "cell_type": "markdown",
   "metadata": {},
   "source": [
    "Which API provided you with more complete data? Provide an explanation. "
   ]
  },
  {
   "cell_type": "markdown",
   "metadata": {},
   "source": []
  },
  {
   "cell_type": "markdown",
   "metadata": {},
   "source": [
    "Get the top 10 restaurants according to their rating"
   ]
  },
  {
   "cell_type": "code",
   "execution_count": null,
   "metadata": {},
   "outputs": [],
   "source": []
  }
 ],
 "metadata": {
  "kernelspec": {
   "display_name": "base",
   "language": "python",
   "name": "python3"
  },
  "language_info": {
   "codemirror_mode": {
    "name": "ipython",
    "version": 3
   },
   "file_extension": ".py",
   "mimetype": "text/x-python",
   "name": "python",
   "nbconvert_exporter": "python",
   "pygments_lexer": "ipython3",
   "version": "3.9.13"
  },
  "vscode": {
   "interpreter": {
    "hash": "8a34b3273de5bc47428473d2a098b2b644951547a78dfc045c680f0cd3ff6f5f"
   }
  }
 },
 "nbformat": 4,
 "nbformat_minor": 4
}
